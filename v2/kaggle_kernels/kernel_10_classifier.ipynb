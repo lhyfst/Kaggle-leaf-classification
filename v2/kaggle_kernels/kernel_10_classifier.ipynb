{
  "cells": [
    {
      "metadata": {
        "_cell_guid": "3bb42045-03bc-0ca3-36c9-9379444c88b1",
        "_uuid": "4832a4631087a3af6eefa873350e950f27d1d924"
      },
      "cell_type": "markdown",
      "source": "# Which Classifier is Should I Choose? \n\nThis is one of the most import questions to ask when approaching a machine learning problem. I find it easier to just test them all at once. Here's 10 of your favorite Scikit-Learn algorithms applied to the leaf data. "
    },
    {
      "metadata": {
        "_cell_guid": "e86aec01-dbc6-4696-e066-6da72fedd092",
        "_uuid": "360fd967c670f86f27127453de506376a04aa058",
        "trusted": false,
        "collapsed": true
      },
      "cell_type": "code",
      "source": "import numpy as np\nimport pandas as pd\nimport seaborn as sns\nimport matplotlib.pyplot as plt\n\ndef warn(*args, **kwargs): pass\nimport warnings\nwarnings.warn = warn\n\nfrom sklearn.preprocessing import LabelEncoder\nfrom sklearn.cross_validation import StratifiedShuffleSplit\n\ntrain = pd.read_csv('../input/train.csv')\ntest = pd.read_csv('../input/test.csv')",
      "execution_count": null,
      "outputs": []
    },
    {
      "metadata": {
        "_cell_guid": "5de1ab5b-9b22-2375-4705-f6d12e9d3046",
        "_uuid": "55b8acf586197c5539d69942be263170c141e20b"
      },
      "cell_type": "markdown",
      "source": "## Data Preparation\n"
    },
    {
      "metadata": {
        "_cell_guid": "361c2695-95c0-745a-0336-a49f6dec97b2",
        "_uuid": "6c99e0cb93c75f53da6d83d87113e444ee6af4fc",
        "trusted": false,
        "collapsed": true
      },
      "cell_type": "code",
      "source": "# Swiss army knife function to organize the data\n\ndef encode(train, test):\n    le = LabelEncoder().fit(train.species) \n    labels = le.transform(train.species)           # encode species strings\n    classes = list(le.classes_)                    # save column names for submission\n    test_ids = test.id                             # save test ids for submission\n    \n    train = train.drop(['species', 'id'], axis=1)  \n    test = test.drop(['id'], axis=1)\n    \n    return train, labels, test, test_ids, classes\n\ntrain, labels, test, test_ids, classes = encode(train, test)\ntrain.head(1)",
      "execution_count": null,
      "outputs": []
    },
    {
      "metadata": {
        "_cell_guid": "3222a1a2-6df6-e5a6-2c4d-65383fc9ee66",
        "_uuid": "059c214fce42b1f0795bb1eb934ac480630e84ac"
      },
      "cell_type": "markdown",
      "source": "## Stratified Train/Test Split\n\nStratification is necessary for this dataset because there is a relatively large number of classes (100 classes for 990 samples). This will ensure we have all classes represented in both the train and test indices. "
    },
    {
      "metadata": {
        "_cell_guid": "7c91b9c9-3b4d-73ac-92d8-db0792f60a3e",
        "_uuid": "688f17b71432637160f201ec7d70c8c30e1ca917",
        "trusted": false,
        "collapsed": true
      },
      "cell_type": "code",
      "source": "sss = StratifiedShuffleSplit(labels, 10, test_size=0.2, random_state=23)\n\nfor train_index, test_index in sss:\n    X_train, X_test = train.values[train_index], train.values[test_index]\n    y_train, y_test = labels[train_index], labels[test_index]",
      "execution_count": null,
      "outputs": []
    },
    {
      "metadata": {
        "_cell_guid": "e1172a79-cdc8-6544-2580-4a58ee9fb434",
        "_uuid": "ad81aa645342e790575cbde0b949c5282307e3da"
      },
      "cell_type": "markdown",
      "source": "## Sklearn Classifier Showdown\n\nSimply looping through 10 out-of-the box classifiers and printing the results. Obviously, these will perform much better after tuning their hyperparameters, but this gives you a decent ballpark idea. "
    },
    {
      "metadata": {
        "_cell_guid": "fb7913b9-e36d-ef8b-a012-cc708b583ab4",
        "_uuid": "819b017b98da7deffee10380ac33ff5a2405f1de",
        "trusted": false,
        "collapsed": true
      },
      "cell_type": "code",
      "source": "from sklearn.metrics import accuracy_score, log_loss\nfrom sklearn.neighbors import KNeighborsClassifier\nfrom sklearn.svm import SVC, LinearSVC, NuSVC\nfrom sklearn.tree import DecisionTreeClassifier\nfrom sklearn.ensemble import RandomForestClassifier, AdaBoostClassifier, GradientBoostingClassifier\nfrom sklearn.naive_bayes import GaussianNB\nfrom sklearn.discriminant_analysis import LinearDiscriminantAnalysis\nfrom sklearn.discriminant_analysis import QuadraticDiscriminantAnalysis\n\nclassifiers = [\n    KNeighborsClassifier(3),\n    SVC(kernel=\"rbf\", C=0.025, probability=True),\n    NuSVC(probability=True),\n    DecisionTreeClassifier(),\n    RandomForestClassifier(),\n    AdaBoostClassifier(),\n    GradientBoostingClassifier(),\n    GaussianNB(),\n    LinearDiscriminantAnalysis(),\n    QuadraticDiscriminantAnalysis()]\n\n# Logging for Visual Comparison\nlog_cols=[\"Classifier\", \"Accuracy\", \"Log Loss\"]\nlog = pd.DataFrame(columns=log_cols)\n\nfor clf in classifiers:\n    clf.fit(X_train, y_train)\n    name = clf.__class__.__name__\n    \n    print(\"=\"*30)\n    print(name)\n    \n    print('****Results****')\n    train_predictions = clf.predict(X_test)\n    acc = accuracy_score(y_test, train_predictions)\n    print(\"Accuracy: {:.4%}\".format(acc))\n    \n    train_predictions = clf.predict_proba(X_test)\n    ll = log_loss(y_test, train_predictions)\n    print(\"Log Loss: {}\".format(ll))\n    \n    log_entry = pd.DataFrame([[name, acc*100, ll]], columns=log_cols)\n    log = log.append(log_entry)\n    \nprint(\"=\"*30)\n",
      "execution_count": null,
      "outputs": []
    },
    {
      "metadata": {
        "_cell_guid": "5d972faa-01b5-f354-155b-9ab11cb9ab63",
        "_uuid": "4b640594e411ec5c5c2094ded3423ae014f66855",
        "trusted": false,
        "collapsed": true
      },
      "cell_type": "code",
      "source": "sns.set_color_codes(\"muted\")\nsns.barplot(x='Accuracy', y='Classifier', data=log, color=\"b\")\n\nplt.xlabel('Accuracy %')\nplt.title('Classifier Accuracy')\nplt.show()\n\nsns.set_color_codes(\"muted\")\nsns.barplot(x='Log Loss', y='Classifier', data=log, color=\"g\")\n\nplt.xlabel('Log Loss')\nplt.title('Classifier Log Loss')\nplt.show()",
      "execution_count": null,
      "outputs": []
    },
    {
      "metadata": {
        "_cell_guid": "d6948e0b-fa3f-151d-baf4-a5e12f6fd1ec",
        "_uuid": "cf32d82986ae90477518a9815a33073eff68f408"
      },
      "cell_type": "markdown",
      "source": "## Submission\n\nAfter choosing your favorite classifier, format the output for a leaderboard submission. "
    },
    {
      "metadata": {
        "_cell_guid": "e8370e61-ea98-94a6-2b46-99ca7e401e9f",
        "_uuid": "0fe4a6a5151f28a02d60403dae6ff4e759af35f4",
        "trusted": false,
        "collapsed": true
      },
      "cell_type": "code",
      "source": "# Predict Test Set\nfavorite_clf = LinearDiscriminantAnalysis()\nfavorite_clf.fit(X_train, y_train)\ntest_predictions = favorite_clf.predict_proba(test)\n\n# Format DataFrame\nsubmission = pd.DataFrame(test_predictions, columns=classes)\nsubmission.insert(0, 'id', test_ids)\nsubmission.reset_index()\n\n# Export Submission\n#submission.to_csv('submission.csv', index = False)\nsubmission.tail()",
      "execution_count": null,
      "outputs": []
    }
  ],
  "metadata": {
    "_change_revision": 0,
    "_is_fork": false,
    "kernelspec": {
      "display_name": "Python 3",
      "language": "python",
      "name": "python3"
    },
    "language_info": {
      "name": "python",
      "version": "3.6.5",
      "mimetype": "text/x-python",
      "codemirror_mode": {
        "name": "ipython",
        "version": 3
      },
      "pygments_lexer": "ipython3",
      "nbconvert_exporter": "python",
      "file_extension": ".py"
    }
  },
  "nbformat": 4,
  "nbformat_minor": 1
}