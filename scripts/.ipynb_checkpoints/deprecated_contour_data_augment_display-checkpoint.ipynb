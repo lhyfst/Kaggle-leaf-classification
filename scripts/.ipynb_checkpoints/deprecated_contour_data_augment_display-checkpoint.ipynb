{
 "cells": [
  {
   "cell_type": "code",
   "execution_count": 9,
   "metadata": {
    "ExecuteTime": {
     "end_time": "2018-06-20T14:07:58.109007Z",
     "start_time": "2018-06-20T14:07:58.092575Z"
    }
   },
   "outputs": [
    {
     "name": "stdout",
     "output_type": "stream",
     "text": [
      "Populating the interactive namespace from numpy and matplotlib\n"
     ]
    }
   ],
   "source": [
    "%pylab inline\n",
    "\n",
    "from generate_contour_data_and_augment import generate_contours_data, load_contours,plot_a_contour"
   ]
  },
  {
   "cell_type": "code",
   "execution_count": 2,
   "metadata": {
    "ExecuteTime": {
     "end_time": "2018-06-19T06:21:26.290023Z",
     "start_time": "2018-06-19T06:19:02.369681Z"
    }
   },
   "outputs": [
    {
     "data": {
      "application/vnd.jupyter.widget-view+json": {
       "model_id": "810b4ebbd6d04e6e8bcc024ee3ec07e0",
       "version_major": 2,
       "version_minor": 0
      },
      "text/html": [
       "<p>Failed to display Jupyter Widget of type <code>HBox</code>.</p>\n",
       "<p>\n",
       "  If you're reading this message in the Jupyter Notebook or JupyterLab Notebook, it may mean\n",
       "  that the widgets JavaScript is still loading. If this message persists, it\n",
       "  likely means that the widgets JavaScript library is either not installed or\n",
       "  not enabled. See the <a href=\"https://ipywidgets.readthedocs.io/en/stable/user_install.html\">Jupyter\n",
       "  Widgets Documentation</a> for setup instructions.\n",
       "</p>\n",
       "<p>\n",
       "  If you're reading this message in another frontend (for example, a static\n",
       "  rendering on GitHub or <a href=\"https://nbviewer.jupyter.org/\">NBViewer</a>),\n",
       "  it may mean that your frontend doesn't currently support widgets.\n",
       "</p>\n"
      ],
      "text/plain": [
       "HBox(children=(IntProgress(value=0, max=1584), HTML(value=u'')))"
      ]
     },
     "metadata": {},
     "output_type": "display_data"
    },
    {
     "name": "stdout",
     "output_type": "stream",
     "text": [
      "\n"
     ]
    }
   ],
   "source": [
    "# generate_data\n",
    "contours_data = generate_contours_data(ID_list=range(1584),length_per_contour=200,save_path='../middata/contours_data.npy')"
   ]
  },
  {
   "cell_type": "code",
   "execution_count": 3,
   "metadata": {
    "ExecuteTime": {
     "end_time": "2018-06-20T14:07:27.883685Z",
     "start_time": "2018-06-20T14:07:27.870394Z"
    }
   },
   "outputs": [],
   "source": [
    "contours_data = load('../middata/contours_data.npy')"
   ]
  },
  {
   "cell_type": "code",
   "execution_count": 5,
   "metadata": {
    "ExecuteTime": {
     "end_time": "2018-06-19T07:27:56.472763Z",
     "start_time": "2018-06-19T07:27:56.402515Z"
    }
   },
   "outputs": [
    {
     "data": {
      "text/plain": [
       "array([[[-4.31347279e-01,  2.26299892e-02],\n",
       "        [-4.77417682e-01,  2.57496673e-03],\n",
       "        [-5.76677997e-01, -2.83274818e-04],\n",
       "        [-6.75910397e-01, -1.99991464e-04],\n",
       "        [-6.74977234e-01, -1.97015256e-02],\n",
       "        [-6.48171741e-01, -4.51296351e-02],\n",
       "        [-6.17499599e-01, -6.98087272e-02],\n",
       "        [-5.92174328e-01, -9.72596469e-02],\n",
       "        [-5.62201751e-01, -1.23953971e-01],\n",
       "        [-5.38380930e-01, -1.50604957e-01],\n",
       "        [-4.96249905e-01, -1.78482137e-01],\n",
       "        [-4.59422113e-01, -2.06228592e-01],\n",
       "        [-4.32087631e-01, -2.31478873e-01],\n",
       "        [-4.00501788e-01, -2.56042970e-01],\n",
       "        [-3.74514772e-01, -2.81183481e-01],\n",
       "        [-3.80104074e-01, -3.01386690e-01],\n",
       "        [-3.98049026e-01, -3.20817476e-01],\n",
       "        [-4.01621491e-01, -3.59422581e-01],\n",
       "        [-3.72097926e-01, -4.00389682e-01],\n",
       "        [-3.45211296e-01, -4.20482090e-01],\n",
       "        [-3.15441421e-01, -4.36207229e-01],\n",
       "        [-2.99165919e-01, -4.55418090e-01],\n",
       "        [-2.65770316e-01, -4.94963602e-01],\n",
       "        [-2.72393126e-01, -5.14197118e-01],\n",
       "        [-2.60904148e-01, -5.32896401e-01],\n",
       "        [-2.56011577e-01, -5.49926251e-01],\n",
       "        [-2.30294756e-01, -5.69641701e-01],\n",
       "        [-2.11273370e-01, -5.87617918e-01],\n",
       "        [-1.89850814e-01, -6.05288585e-01],\n",
       "        [-1.66091280e-01, -6.22627031e-01],\n",
       "        [-1.64677960e-01, -6.39814851e-01],\n",
       "        [-1.36416180e-01, -6.56588513e-01],\n",
       "        [-1.09997153e-01, -6.75286411e-01],\n",
       "        [-1.05296318e-01, -6.94303888e-01],\n",
       "        [-9.77527814e-02, -7.13227144e-01],\n",
       "        [-1.11503444e-01, -7.33117196e-01],\n",
       "        [-1.70663225e-01, -7.45327788e-01],\n",
       "        [-2.36965279e-01, -7.55002121e-01],\n",
       "        [-3.02527076e-01, -7.65239104e-01],\n",
       "        [-3.29720299e-01, -7.86222039e-01],\n",
       "        [-3.33153878e-01, -8.11120092e-01],\n",
       "        [-3.07331246e-01, -8.28339090e-01],\n",
       "        [-2.69125133e-01, -8.47972956e-01],\n",
       "        [-2.38845118e-01, -8.64258480e-01],\n",
       "        [-2.06587755e-01, -8.85308265e-01],\n",
       "        [-1.93951522e-01, -9.00842189e-01],\n",
       "        [-1.30448477e-01, -9.30641506e-01],\n",
       "        [-9.89805138e-02, -9.50046213e-01],\n",
       "        [-6.62983577e-02, -9.66518858e-01],\n",
       "        [-4.03639915e-02, -9.85380092e-01],\n",
       "        [-8.32954758e-02, -9.99870773e-01],\n",
       "        [-7.63878947e-02, -1.01728940e+00],\n",
       "        [-3.46915119e-02, -1.05796426e+00],\n",
       "        [ 2.00762163e-03, -1.08070546e+00],\n",
       "        [ 3.83895551e-03, -1.10114269e+00],\n",
       "        [-1.46755240e-02, -1.11599109e+00],\n",
       "        [-1.17891305e-02, -1.13432419e+00],\n",
       "        [ 2.36697538e-02, -1.15456175e+00],\n",
       "        [ 3.23085705e-02, -1.17251878e+00],\n",
       "        [ 6.46542817e-02, -1.19306587e+00],\n",
       "        [ 6.36927203e-02, -1.20992336e+00],\n",
       "        [-9.05651700e-03, -1.22064266e+00],\n",
       "        [-8.08082357e-02, -1.23198429e+00],\n",
       "        [-1.64785129e-01, -1.23992346e+00],\n",
       "        [-2.34662211e-01, -1.25260181e+00],\n",
       "        [-3.22463258e-01, -1.25586570e+00],\n",
       "        [-3.94777778e-01, -1.25981523e+00],\n",
       "        [-4.75431581e-01, -1.26590398e+00],\n",
       "        [-5.41496127e-01, -1.27711182e+00],\n",
       "        [-6.28601083e-01, -1.28199534e+00],\n",
       "        [-7.86826420e-01, -1.29342400e+00],\n",
       "        [-8.57879804e-01, -1.30001682e+00],\n",
       "        [-9.44405997e-01, -1.31242740e+00],\n",
       "        [-9.43940545e-01, -1.33387108e+00],\n",
       "        [-9.08249310e-01, -1.35504481e+00],\n",
       "        [-8.56610532e-01, -1.37895094e+00],\n",
       "        [-7.91359016e-01, -1.40386741e+00],\n",
       "        [-7.25748639e-01, -1.42237375e+00],\n",
       "        [-6.40254956e-01, -1.43151079e+00],\n",
       "        [-5.50873432e-01, -1.44408254e+00],\n",
       "        [-4.87678023e-01, -1.45050551e+00],\n",
       "        [-4.18627864e-01, -1.46539858e+00],\n",
       "        [-3.87346913e-01, -1.48606449e+00],\n",
       "        [-2.92864340e-01, -1.53982617e+00],\n",
       "        [-2.57770793e-01, -1.55474947e+00],\n",
       "        [-2.10693155e-01, -1.57006861e+00],\n",
       "        [-1.61911990e-01, -1.58477782e+00],\n",
       "        [-1.73634770e-01, -1.60269921e+00],\n",
       "        [-1.34732982e-01, -1.61831911e+00],\n",
       "        [-8.32615193e-02, -1.63397197e+00],\n",
       "        [-4.07054149e-02, -1.64851839e+00],\n",
       "        [-3.09391281e-02, -1.66373623e+00],\n",
       "        [ 1.49873776e-02, -1.67746895e+00],\n",
       "        [ 6.24204931e-02, -1.69071456e+00],\n",
       "        [ 9.92665020e-02, -1.70555859e+00],\n",
       "        [ 8.22309531e-02, -1.72152910e+00],\n",
       "        [ 1.37145393e-02, -1.73012691e+00],\n",
       "        [-5.41568088e-02, -1.73919086e+00],\n",
       "        [-9.95373971e-02, -1.75630136e+00],\n",
       "        [-1.65351881e-01,  1.74408820e+00],\n",
       "        [-2.19335826e-01,  1.73338720e+00],\n",
       "        [-2.83389497e-01,  1.72204684e+00],\n",
       "        [-3.72020967e-01,  1.68985131e+00],\n",
       "        [-4.43010086e-01,  1.67605934e+00],\n",
       "        [-5.14419008e-01,  1.66426928e+00],\n",
       "        [-5.74033486e-01,  1.65218338e+00],\n",
       "        [-6.15116438e-01,  1.60478946e+00],\n",
       "        [-6.69630537e-01,  1.59028996e+00],\n",
       "        [-7.33230236e-01,  1.57390663e+00],\n",
       "        [-8.05458589e-01,  1.55517412e+00],\n",
       "        [-8.59271042e-01,  1.54092404e+00],\n",
       "        [-9.22032125e-01,  1.52426394e+00],\n",
       "        [-9.78451271e-01,  1.50282085e+00],\n",
       "        [-1.02773610e+00,  1.48523962e+00],\n",
       "        [-1.08903435e+00,  1.45882997e+00],\n",
       "        [-1.14347518e+00,  1.43614715e+00],\n",
       "        [-1.18259680e+00,  1.40447744e+00],\n",
       "        [-1.20845602e+00,  1.37392241e+00],\n",
       "        [-1.14086983e+00,  1.36189834e+00],\n",
       "        [-1.06319915e+00,  1.35944508e+00],\n",
       "        [-9.92605454e-01,  1.36019482e+00],\n",
       "        [-9.06572510e-01,  1.36044810e+00],\n",
       "        [-8.35975403e-01,  1.36108928e+00],\n",
       "        [-7.58298082e-01,  1.35908356e+00],\n",
       "        [-6.73455799e-01,  1.35477876e+00],\n",
       "        [-5.67261541e-01,  1.33956808e+00],\n",
       "        [-4.89400087e-01,  1.33862599e+00],\n",
       "        [-4.19583800e-01,  1.33581274e+00],\n",
       "        [-3.34235404e-01,  1.33304649e+00],\n",
       "        [-2.74475368e-01,  1.32156187e+00],\n",
       "        [-1.95160264e-01,  1.31728318e+00],\n",
       "        [-1.23457367e-01,  1.31578064e+00],\n",
       "        [-6.22916044e-02,  1.30497539e+00],\n",
       "        [ 1.73563440e-02,  1.29180675e+00],\n",
       "        [ 6.12992816e-03,  1.27477806e+00],\n",
       "        [-2.67247361e-02,  1.25878784e+00],\n",
       "        [-1.78004408e-02,  1.24180804e+00],\n",
       "        [ 2.39997637e-03,  1.22357121e+00],\n",
       "        [-1.44342253e-02,  1.20565045e+00],\n",
       "        [-3.79369682e-02,  1.18878879e+00],\n",
       "        [-3.45115052e-02,  1.17127831e+00],\n",
       "        [-4.87915651e-02,  1.15071752e+00],\n",
       "        [-9.89905509e-02,  1.12875126e+00],\n",
       "        [-1.45215507e-01,  1.10591104e+00],\n",
       "        [-1.72966017e-01,  1.08369119e+00],\n",
       "        [-2.10841862e-01,  1.05937020e+00],\n",
       "        [-1.85972535e-01,  1.04379720e+00],\n",
       "        [-1.92202965e-01,  1.02000393e+00],\n",
       "        [-2.26365749e-01,  9.97806919e-01],\n",
       "        [-2.65148343e-01,  9.78617448e-01],\n",
       "        [-2.89302892e-01,  9.59999483e-01],\n",
       "        [-3.13069801e-01,  9.36125752e-01],\n",
       "        [-3.42887280e-01,  9.14727732e-01],\n",
       "        [-4.03330349e-01,  8.70320317e-01],\n",
       "        [-4.00160172e-01,  8.44761060e-01],\n",
       "        [-2.72761906e-01,  8.24962099e-01],\n",
       "        [-2.12363546e-01,  8.13136419e-01],\n",
       "        [-1.41453359e-01,  8.04753371e-01],\n",
       "        [-9.91991920e-02,  7.90376182e-01],\n",
       "        [-8.04523179e-02,  7.68931003e-01],\n",
       "        [-8.83547055e-02,  7.50835744e-01],\n",
       "        [-8.08073737e-02,  7.33397293e-01],\n",
       "        [-9.19953393e-02,  7.14681333e-01],\n",
       "        [-1.00379359e-01,  6.95816996e-01],\n",
       "        [-1.20092637e-01,  6.78326869e-01],\n",
       "        [-7.59485418e-02,  6.66132237e-01],\n",
       "        [-7.70559229e-02,  6.47324434e-01],\n",
       "        [-7.53377968e-02,  6.28521236e-01],\n",
       "        [-9.54292704e-02,  6.09708270e-01],\n",
       "        [-9.87434591e-02,  5.95206707e-01],\n",
       "        [-1.07330247e-01,  5.59251627e-01],\n",
       "        [-1.02990055e-01,  5.44960853e-01],\n",
       "        [-8.26397719e-02,  5.33022168e-01],\n",
       "        [-3.75065278e-02,  5.19101224e-01],\n",
       "        [-4.77726848e-02,  5.02021322e-01],\n",
       "        [-5.56638608e-02,  4.84818042e-01],\n",
       "        [-6.76937182e-02,  4.66214683e-01],\n",
       "        [-8.74103470e-02,  4.52059458e-01],\n",
       "        [-1.11721561e-01,  4.36255594e-01],\n",
       "        [-1.33518048e-01,  4.16598801e-01],\n",
       "        [-1.76115873e-01,  3.98023568e-01],\n",
       "        [-2.09008520e-01,  3.80811356e-01],\n",
       "        [-2.30845226e-01,  3.61540890e-01],\n",
       "        [-2.40850406e-01,  3.40415736e-01],\n",
       "        [-2.44625297e-01,  3.25012675e-01],\n",
       "        [-2.67599865e-01,  3.06436814e-01],\n",
       "        [-2.98845953e-01,  2.82820323e-01],\n",
       "        [-3.35749045e-01,  2.59817744e-01],\n",
       "        [-3.68741969e-01,  2.36084362e-01],\n",
       "        [-4.18081451e-01,  2.13810804e-01],\n",
       "        [-4.63844028e-01,  1.90530965e-01],\n",
       "        [-5.05791802e-01,  1.66261368e-01],\n",
       "        [-5.43687848e-01,  1.41034861e-01],\n",
       "        [-5.85748676e-01,  1.18583206e-01],\n",
       "        [-6.15481933e-01,  9.15499902e-02],\n",
       "        [-6.61014234e-01,  6.77196349e-02],\n",
       "        [-6.91085652e-01,  4.57580867e-02],\n",
       "        [-6.49602692e-01,  3.50651462e-02],\n",
       "        [-5.40307613e-01,  3.00329948e-02],\n",
       "        [-4.63243459e-01,  2.88484011e-02]],\n",
       "\n",
       "       [[-7.90625354e-01, -1.92192348e-01],\n",
       "        [-7.67356227e-01, -2.22561392e-01],\n",
       "        [-7.46820067e-01, -2.53236422e-01],\n",
       "        [-7.35372640e-01, -3.08885136e-01],\n",
       "        [-7.36692130e-01, -3.33100014e-01],\n",
       "        [-6.44956367e-01, -3.26770380e-01],\n",
       "        [-5.71607181e-01, -3.35455058e-01],\n",
       "        [-5.14228871e-01, -3.57762096e-01],\n",
       "        [-4.39921208e-01, -3.83342926e-01],\n",
       "        [-3.92571426e-01, -4.06670409e-01],\n",
       "        [-3.33978997e-01, -4.50431523e-01],\n",
       "        [-3.21426510e-01, -4.72077196e-01],\n",
       "        [-3.00489434e-01, -4.94490012e-01],\n",
       "        [-2.52417770e-01, -4.97162499e-01],\n",
       "        [-1.76279795e-01, -4.91712533e-01],\n",
       "        [-3.16164011e-02, -5.14696560e-01],\n",
       "        [ 1.77652853e-02, -5.31644448e-01],\n",
       "        [ 4.86063207e-02, -5.47789111e-01],\n",
       "        [ 7.38532765e-02, -5.65265425e-01],\n",
       "        [ 7.70611339e-02, -5.82048704e-01],\n",
       "        [ 1.65915582e-01, -5.82295783e-01],\n",
       "        [ 2.36821277e-01, -5.93095114e-01],\n",
       "        [ 2.78277396e-01, -6.09935059e-01],\n",
       "        [ 2.97616629e-01, -6.26334740e-01],\n",
       "        [ 3.19392142e-01, -6.42501001e-01],\n",
       "        [ 3.33402250e-01, -6.57602724e-01],\n",
       "        [ 3.45516647e-01, -6.74508706e-01],\n",
       "        [ 3.46236130e-01, -6.92553452e-01],\n",
       "        [ 3.46704153e-01, -7.12577560e-01],\n",
       "        [ 3.26789777e-01, -7.33523470e-01],\n",
       "        [ 2.97819008e-01, -7.56346547e-01],\n",
       "        [ 2.69108303e-01, -7.75018965e-01],\n",
       "        [ 2.30027765e-01, -7.91405232e-01],\n",
       "        [ 2.29882461e-01, -8.06965496e-01],\n",
       "        [ 3.40602757e-01, -8.07614845e-01],\n",
       "        [ 4.51326696e-01, -8.08216602e-01],\n",
       "        [ 4.85188089e-01, -8.25234459e-01],\n",
       "        [ 3.93385947e-01, -8.31883045e-01],\n",
       "        [ 2.82627316e-01, -8.32187931e-01],\n",
       "        [ 1.92897630e-01, -8.35120910e-01],\n",
       "        [ 1.23039729e-01, -8.45424590e-01],\n",
       "        [ 1.29550212e-01, -8.68339806e-01],\n",
       "        [ 1.07186330e-01, -8.86640406e-01],\n",
       "        [ 8.76752609e-02, -9.05244179e-01],\n",
       "        [ 7.03324657e-02, -9.21768987e-01],\n",
       "        [ 4.55529799e-02, -9.41086114e-01],\n",
       "        [-7.18250168e-03, -9.78784515e-01],\n",
       "        [-3.32373348e-02, -9.99609218e-01],\n",
       "        [-5.30991591e-02, -1.01313569e+00],\n",
       "        [-7.62251351e-02, -1.03227111e+00],\n",
       "        [-9.63733263e-02, -1.05174142e+00],\n",
       "        [-1.23825832e-01, -1.07234422e+00],\n",
       "        [-1.41763086e-01, -1.09010678e+00],\n",
       "        [-1.62864803e-01, -1.11145850e+00],\n",
       "        [-1.80033617e-01, -1.12740494e+00],\n",
       "        [-2.05053758e-01, -1.14476420e+00],\n",
       "        [-2.62906415e-01, -1.15804146e+00],\n",
       "        [-3.42102073e-01, -1.15624913e+00],\n",
       "        [-3.63172444e-01, -1.17516975e+00],\n",
       "        [-3.69794911e-01, -1.19914141e+00],\n",
       "        [-3.85004869e-01, -1.21863312e+00],\n",
       "        [-3.99681039e-01, -1.24232030e+00],\n",
       "        [-4.32940268e-01, -1.26369939e+00],\n",
       "        [-4.78534834e-01, -1.28547653e+00],\n",
       "        [-5.52280185e-01, -1.31665947e+00],\n",
       "        [-6.37787081e-01, -1.30981492e+00],\n",
       "        [-6.61296889e-01, -1.32569175e+00],\n",
       "        [-6.57815490e-01, -1.35301254e+00],\n",
       "        [-6.66933366e-01, -1.37615321e+00],\n",
       "        [-6.79332412e-01, -1.40207339e+00],\n",
       "        [-6.93724280e-01, -1.43099330e+00],\n",
       "        [-7.12499343e-01, -1.45861379e+00],\n",
       "        [-7.41529798e-01, -1.48814014e+00],\n",
       "        [-7.85335040e-01, -1.51567015e+00],\n",
       "        [-8.43664497e-01, -1.52263735e+00],\n",
       "        [-9.17557410e-01, -1.52374656e+00],\n",
       "        [-8.92003732e-01, -1.55133099e+00],\n",
       "        [-8.65955616e-01, -1.58144004e+00],\n",
       "        [-8.56344970e-01, -1.60872177e+00],\n",
       "        [-8.45075030e-01, -1.63910824e+00],\n",
       "        [-8.30508432e-01, -1.67249646e+00],\n",
       "        [-8.20788082e-01, -1.70489957e+00],\n",
       "        [-8.27970342e-01, -1.74364425e+00],\n",
       "        [-9.71747245e-01,  1.75279353e+00],\n",
       "        [-9.26310658e-01,  1.73030863e+00],\n",
       "        [-8.99382292e-01,  1.70482124e+00],\n",
       "        [-8.67580759e-01,  1.67659561e+00],\n",
       "        [-8.27476077e-01,  1.64254243e+00],\n",
       "        [-7.91820240e-01,  1.60925041e+00],\n",
       "        [-7.60544720e-01,  1.57631474e+00],\n",
       "        [-7.98866005e-01,  1.56870060e+00],\n",
       "        [-9.06511094e-01,  1.56019682e+00],\n",
       "        [-8.68636124e-01,  1.53756260e+00],\n",
       "        [-7.64968295e-01,  1.48315481e+00],\n",
       "        [-7.20645266e-01,  1.45210770e+00],\n",
       "        [-6.70888216e-01,  1.42260004e+00],\n",
       "        [-7.16315733e-01,  1.41334558e+00],\n",
       "        [-7.98493072e-01,  1.40799966e+00],\n",
       "        [-6.83754709e-01,  1.36269723e+00],\n",
       "        [-6.34019281e-01,  1.34116551e+00],\n",
       "        [-5.66083019e-01,  1.31634598e+00],\n",
       "        [-5.10031768e-01,  1.29303582e+00],\n",
       "        [-5.14956598e-01,  1.27814533e+00],\n",
       "        [-5.90426434e-01,  1.26793699e+00],\n",
       "        [-5.51481720e-01,  1.24713770e+00],\n",
       "        [-4.70147940e-01,  1.22672932e+00],\n",
       "        [-3.92388879e-01,  1.20553582e+00],\n",
       "        [-3.30394977e-01,  1.18870512e+00],\n",
       "        [-4.12798664e-01,  1.15877403e+00],\n",
       "        [-3.10659124e-01,  1.14792547e+00],\n",
       "        [-2.17637039e-01,  1.13334994e+00],\n",
       "        [-1.23136382e-01,  1.11989164e+00],\n",
       "        [-5.63571624e-02,  1.10493230e+00],\n",
       "        [ 1.21300563e-02,  1.09075676e+00],\n",
       "        [-8.03892445e-03,  1.07963183e+00],\n",
       "        [-6.57980638e-02,  1.06618214e+00],\n",
       "        [-1.04701766e-02,  1.05680788e+00],\n",
       "        [ 9.08806177e-02,  1.04723813e+00],\n",
       "        [ 2.68488756e-01,  1.02715237e+00],\n",
       "        [ 3.55757740e-01,  1.01600019e+00],\n",
       "        [ 3.98708897e-01,  1.00538352e+00],\n",
       "        [ 4.53499487e-01,  9.94633391e-01],\n",
       "        [ 5.46083057e-01,  9.87008852e-01],\n",
       "        [ 6.30452984e-01,  9.82073241e-01],\n",
       "        [ 7.23927122e-01,  9.75214115e-01],\n",
       "        [ 7.96133841e-01,  9.69341636e-01],\n",
       "        [ 8.27740937e-01,  9.55620535e-01],\n",
       "        [ 9.15708372e-01,  9.51809245e-01],\n",
       "        [ 9.99449447e-01,  9.48264431e-01],\n",
       "        [ 1.10602663e+00,  9.42775024e-01],\n",
       "        [ 1.20328570e+00,  9.39386884e-01],\n",
       "        [ 1.29946850e+00,  9.34592488e-01],\n",
       "        [ 1.40686119e+00,  9.29885616e-01],\n",
       "        [ 1.50357455e+00,  9.25556100e-01],\n",
       "        [ 1.57768977e+00,  9.20186234e-01],\n",
       "        [ 1.65137979e+00,  9.13555061e-01],\n",
       "        [ 1.65841559e+00,  9.04746737e-01],\n",
       "        [ 1.54777375e+00,  9.04033495e-01],\n",
       "        [ 1.44870725e+00,  9.04735444e-01],\n",
       "        [ 1.33806570e+00,  9.03983610e-01],\n",
       "        [ 1.22743163e+00,  9.03187968e-01],\n",
       "        [ 1.12730540e+00,  9.00601145e-01],\n",
       "        [ 1.01670740e+00,  8.99654439e-01],\n",
       "        [ 9.06120352e-01,  8.98647496e-01],\n",
       "        [ 8.06144529e-01,  8.95679986e-01],\n",
       "        [ 6.95915495e-01,  8.95975270e-01],\n",
       "        [ 6.50126952e-01,  8.85175144e-01],\n",
       "        [ 5.70469356e-01,  8.81490078e-01],\n",
       "        [ 4.73320607e-01,  8.77637848e-01],\n",
       "        [ 3.74121802e-01,  8.73523686e-01],\n",
       "        [ 2.75093757e-01,  8.69122878e-01],\n",
       "        [ 2.53875448e-01,  8.60342740e-01],\n",
       "        [ 2.22918943e-01,  8.49148170e-01],\n",
       "        [ 1.60087149e-01,  8.37241458e-01],\n",
       "        [ 9.75435611e-02,  8.27070922e-01],\n",
       "        [ 1.28858279e-02,  8.18290834e-01],\n",
       "        [-3.69382794e-02,  8.07372519e-01],\n",
       "        [ 4.67250684e-03,  7.94000945e-01],\n",
       "        [-4.99881852e-02,  7.77367721e-01],\n",
       "        [-1.04584675e-01,  7.62448432e-01],\n",
       "        [-1.70578036e-01,  7.48777791e-01],\n",
       "        [-2.48469154e-01,  7.36248024e-01],\n",
       "        [-2.08313711e-01,  7.11605055e-01],\n",
       "        [-1.43021642e-01,  6.97537557e-01],\n",
       "        [-1.49630666e-01,  6.86287806e-01],\n",
       "        [-2.21025949e-01,  6.71897974e-01],\n",
       "        [-2.90766127e-01,  6.56616903e-01],\n",
       "        [-3.73251320e-01,  6.41797309e-01],\n",
       "        [-4.54071198e-01,  6.25833696e-01],\n",
       "        [-5.13395834e-01,  6.11354691e-01],\n",
       "        [-4.33945455e-01,  6.02520733e-01],\n",
       "        [-4.60943524e-01,  5.85367808e-01],\n",
       "        [-4.95261670e-01,  5.66204796e-01],\n",
       "        [-5.60635398e-01,  5.43887563e-01],\n",
       "        [-6.29127107e-01,  5.22648512e-01],\n",
       "        [-6.92790302e-01,  5.04501129e-01],\n",
       "        [-7.85391821e-01,  4.85945291e-01],\n",
       "        [-7.58660763e-01,  4.65923190e-01],\n",
       "        [-6.82078969e-01,  4.55505114e-01],\n",
       "        [-7.35788139e-01,  4.10935190e-01],\n",
       "        [-7.91146825e-01,  3.80687836e-01],\n",
       "        [-9.37018855e-01,  3.21638402e-01],\n",
       "        [-9.93061639e-01,  2.97626534e-01],\n",
       "        [-9.05785860e-01,  2.88843816e-01],\n",
       "        [-8.88409327e-01,  2.68861263e-01],\n",
       "        [-9.12243545e-01,  2.35800775e-01],\n",
       "        [-9.58527625e-01,  1.97487747e-01],\n",
       "        [-9.90472260e-01,  1.64595064e-01],\n",
       "        [-1.02479456e+00,  1.35278667e-01],\n",
       "        [-1.07631365e+00,  1.06285294e-01],\n",
       "        [-1.01713577e+00,  9.00238437e-02],\n",
       "        [-9.70527669e-01,  6.78562406e-02],\n",
       "        [-9.46892013e-01,  3.25464837e-02],\n",
       "        [-9.54743713e-01, -5.12324108e-02],\n",
       "        [-9.66468077e-01, -8.25403827e-02],\n",
       "        [-9.83865042e-01, -1.14968103e-01],\n",
       "        [-1.00643267e+00, -1.49002848e-01],\n",
       "        [-9.26182029e-01, -1.49443322e-01],\n",
       "        [-8.61250613e-01, -1.58662559e-01],\n",
       "        [-7.99979820e-01, -1.85868863e-01]]])"
      ]
     },
     "execution_count": 5,
     "metadata": {},
     "output_type": "execute_result"
    }
   ],
   "source": [
    "IDs_to_contours([16,17],contours_data)"
   ]
  },
  {
   "cell_type": "code",
   "execution_count": 4,
   "metadata": {
    "ExecuteTime": {
     "end_time": "2018-06-20T14:07:31.315407Z",
     "start_time": "2018-06-20T14:07:31.292051Z"
    }
   },
   "outputs": [],
   "source": [
    "ID = [52]\n",
    "tmp_contours = load_contours(ID, '../middata/contours_data.npy')"
   ]
  },
  {
   "cell_type": "code",
   "execution_count": 5,
   "metadata": {
    "ExecuteTime": {
     "end_time": "2018-06-20T14:07:35.805680Z",
     "start_time": "2018-06-20T14:07:35.794982Z"
    }
   },
   "outputs": [],
   "source": [
    "import matplotlib.image as mpimg\n",
    "def show_img(img_no):\n",
    "    f = figure()\n",
    "    imshow(mpimg.imread('../rawdata/images/' + str(img_no) + '.jpg'))\n",
    "    return"
   ]
  },
  {
   "cell_type": "code",
   "execution_count": 10,
   "metadata": {
    "ExecuteTime": {
     "end_time": "2018-06-20T14:08:01.371483Z",
     "start_time": "2018-06-20T14:08:00.750263Z"
    }
   },
   "outputs": [
    {
     "data": {
      "image/png": "[encoded data removed]",
      "text/plain": [
       "<Figure size 432x288 with 1 Axes>"
      ]
     },
     "metadata": {},
     "output_type": "display_data"
    }
   ],
   "source": [
    "show_img(52)"
   ]
  },
  {
   "cell_type": "code",
   "execution_count": 13,
   "metadata": {
    "ExecuteTime": {
     "end_time": "2018-06-20T14:08:19.391240Z",
     "start_time": "2018-06-20T14:08:19.019777Z"
    }
   },
   "outputs": [
    {
     "data": {
      "image/png": "[encoded data removed]",
      "text/plain": [
       "<Figure size 432x288 with 1 Axes>"
      ]
     },
     "metadata": {},
     "output_type": "display_data"
    }
   ],
   "source": [
    "plot_a_contour(contours_data[51],'rho')"
   ]
  },
  {
   "cell_type": "code",
   "execution_count": 14,
   "metadata": {
    "ExecuteTime": {
     "end_time": "2018-06-20T14:08:38.533600Z",
     "start_time": "2018-06-20T14:08:38.170567Z"
    }
   },
   "outputs": [
    {
     "data": {
      "image/png": "[encoded data removed]",
      "text/plain": [
       "<Figure size 432x288 with 1 Axes>"
      ]
     },
     "metadata": {},
     "output_type": "display_data"
    }
   ],
   "source": [
    "plot_a_contour(tmp_contours[0],'rho')"
   ]
  },
  {
   "cell_type": "code",
   "execution_count": 16,
   "metadata": {
    "ExecuteTime": {
     "end_time": "2018-06-20T14:09:31.379493Z",
     "start_time": "2018-06-20T14:09:30.664468Z"
    }
   },
   "outputs": [
    {
     "data": {
      "image/png": "[encoded data removed]",
      "text/plain": [
       "<Figure size 432x288 with 1 Axes>"
      ]
     },
     "metadata": {},
     "output_type": "display_data"
    }
   ],
   "source": [
    "plot_a_contour(tmp_contours[0],'phi')"
   ]
  },
  {
   "cell_type": "code",
   "execution_count": 7,
   "metadata": {
    "ExecuteTime": {
     "end_time": "2018-06-19T06:54:42.436687Z",
     "start_time": "2018-06-19T06:54:42.426595Z"
    }
   },
   "outputs": [],
   "source": [
    "from generate_contour_data_and_augment import plot_a_contour"
   ]
  },
  {
   "cell_type": "code",
   "execution_count": 5,
   "metadata": {
    "ExecuteTime": {
     "end_time": "2018-06-19T06:38:22.925147Z",
     "start_time": "2018-06-19T06:38:22.581832Z"
    }
   },
   "outputs": [
    {
     "data": {
      "image/png": "[encoded data removed]",
      "text/plain": [
       "<Figure size 432x288 with 1 Axes>"
      ]
     },
     "metadata": {},
     "output_type": "display_data"
    }
   ],
   "source": [
    "plot_a_contour(contours_data[0])"
   ]
  },
  {
   "cell_type": "code",
   "execution_count": 6,
   "metadata": {
    "ExecuteTime": {
     "end_time": "2018-06-19T06:38:37.743817Z",
     "start_time": "2018-06-19T06:38:37.196592Z"
    }
   },
   "outputs": [
    {
     "data": {
      "image/png": "[encoded data removed]",
      "text/plain": [
       "<Figure size 432x288 with 1 Axes>"
      ]
     },
     "metadata": {},
     "output_type": "display_data"
    }
   ],
   "source": [
    "plot_a_contour(contours_data[0],'rho')"
   ]
  },
  {
   "cell_type": "code",
   "execution_count": 12,
   "metadata": {
    "ExecuteTime": {
     "end_time": "2018-06-19T06:40:25.581302Z",
     "start_time": "2018-06-19T06:40:25.150144Z"
    },
    "scrolled": true
   },
   "outputs": [
    {
     "data": {
      "image/png": "[encoded data removed]",
      "text/plain": [
       "<Figure size 432x288 with 1 Axes>"
      ]
     },
     "metadata": {},
     "output_type": "display_data"
    }
   ],
   "source": [
    "plot_a_contour(tmp_contours[0],'rho')"
   ]
  },
  {
   "cell_type": "code",
   "execution_count": 13,
   "metadata": {
    "ExecuteTime": {
     "end_time": "2018-06-19T06:40:57.313760Z",
     "start_time": "2018-06-19T06:40:56.817549Z"
    }
   },
   "outputs": [
    {
     "data": {
      "image/png": "[encoded data removed]",
      "text/plain": [
       "<Figure size 432x288 with 1 Axes>"
      ]
     },
     "metadata": {},
     "output_type": "display_data"
    }
   ],
   "source": [
    "plot_a_contour(tmp_contours[0],'phi')"
   ]
  },
  {
   "cell_type": "code",
   "execution_count": 8,
   "metadata": {
    "ExecuteTime": {
     "end_time": "2018-06-19T06:39:10.173760Z",
     "start_time": "2018-06-19T06:39:09.444061Z"
    }
   },
   "outputs": [
    {
     "data": {
      "image/png": "[encoded data removed]",
      "text/plain": [
       "<Figure size 432x288 with 1 Axes>"
      ]
     },
     "metadata": {},
     "output_type": "display_data"
    }
   ],
   "source": [
    "plot_a_contour(contours_data[0],'phi')"
   ]
  },
  {
   "cell_type": "code",
   "execution_count": 44,
   "metadata": {
    "ExecuteTime": {
     "end_time": "2018-06-19T06:49:25.557571Z",
     "start_time": "2018-06-19T06:49:25.521058Z"
    }
   },
   "outputs": [
    {
     "data": {
      "text/plain": [
       "array([[-0.42405636,  0.09218795],\n",
       "       [-0.50022691,  0.08062834],\n",
       "       [-0.60000182,  0.08167709],\n",
       "       [-0.69202545,  0.07586713],\n",
       "       [-0.65731109,  0.05175079],\n",
       "       [-0.64226936,  0.02250594],\n",
       "       [-0.63294424, -0.00941147],\n",
       "       [-0.61877783, -0.03462453],\n",
       "       [-0.60069979, -0.05942452],\n",
       "       [-0.60062306, -0.08463725],\n",
       "       [-0.579156  , -0.1183121 ],\n",
       "       [-0.57476573, -0.14979079],\n",
       "       [-0.57095744, -0.1752093 ],\n",
       "       [-0.56944406, -0.20441074],\n",
       "       [-0.55681234, -0.22948278],\n",
       "       [-0.5449479 , -0.25144382],\n",
       "       [-0.53455018, -0.2772032 ],\n",
       "       [-0.50475879, -0.30368011],\n",
       "       [-0.47963326, -0.33096414],\n",
       "       [-0.4472903 , -0.35350676],\n",
       "       [-0.44254453, -0.37435459],\n",
       "       [-0.42771034, -0.39728589],\n",
       "       [-0.40932055, -0.41986441],\n",
       "       [-0.37187755, -0.44201835],\n",
       "       [-0.33109732, -0.46339791],\n",
       "       [-0.27996969, -0.48195326],\n",
       "       [-0.23334984, -0.50171696],\n",
       "       [-0.19935035, -0.52120768],\n",
       "       [-0.16254944, -0.54012499],\n",
       "       [-0.17473394, -0.56287696],\n",
       "       [-0.14153505, -0.57961903],\n",
       "       [-0.09659282, -0.59709575],\n",
       "       [-0.05436187, -0.61609877],\n",
       "       [-0.02922268, -0.63241393],\n",
       "       [ 0.01820053, -0.65029077],\n",
       "       [ 0.07230188, -0.6653524 ],\n",
       "       [ 0.06507112, -0.68227425],\n",
       "       [ 0.09866417, -0.6971032 ],\n",
       "       [ 0.1445953 , -0.71221719],\n",
       "       [ 0.1894635 , -0.72895796],\n",
       "       [ 0.20205646, -0.7457201 ],\n",
       "       [ 0.20397303, -0.76403469],\n",
       "       [ 0.19805003, -0.78191281],\n",
       "       [ 0.16228611, -0.7988799 ],\n",
       "       [ 0.11004149, -0.81075067],\n",
       "       [ 0.04877661, -0.82143131],\n",
       "       [-0.03229638, -0.82931657],\n",
       "       [-0.10187667, -0.83791512],\n",
       "       [-0.19277139, -0.84669179],\n",
       "       [-0.28082431, -0.84542834],\n",
       "       [-0.34962744, -0.85825005],\n",
       "       [-0.35880218, -0.91109726],\n",
       "       [-0.33210536, -0.92728323],\n",
       "       [-0.28874132, -0.95080091],\n",
       "       [-0.24326444, -0.97080013],\n",
       "       [-0.19492275, -0.99000906],\n",
       "       [-0.1441983 , -1.00584161],\n",
       "       [-0.14922895, -1.02444527],\n",
       "       [-0.16002135, -1.04371258],\n",
       "       [-0.12947385, -1.06545645],\n",
       "       [-0.08726129, -1.09125612],\n",
       "       [-0.02872292, -1.10973288],\n",
       "       [-0.05140968, -1.12807288],\n",
       "       [-0.01184049, -1.15084771],\n",
       "       [ 0.01678819, -1.17202568],\n",
       "       [ 0.06424525, -1.19344936],\n",
       "       [ 0.0695019 , -1.21224591],\n",
       "       [-0.02101053, -1.22578111],\n",
       "       [-0.09648425, -1.23184396],\n",
       "       [-0.19585208, -1.23931683],\n",
       "       [-0.33989103, -1.25975727],\n",
       "       [-0.42903404, -1.26752104],\n",
       "       [-0.51772779, -1.27595759],\n",
       "       [-0.60678074, -1.28958207],\n",
       "       [-0.63254167, -1.30943721],\n",
       "       [-0.7262751 , -1.31842167],\n",
       "       [-0.78860934, -1.32330622],\n",
       "       [-0.87424963, -1.3261147 ],\n",
       "       [-0.95984251, -1.32922185],\n",
       "       [-1.05353662, -1.3241381 ],\n",
       "       [-1.13303551, -1.32506316],\n",
       "       [-1.20172282, -1.32156142],\n",
       "       [-1.26388981, -1.32839409],\n",
       "       [-1.17524638, -1.35589311],\n",
       "       [-1.08526334, -1.37422503],\n",
       "       [-0.9992121 , -1.392921  ],\n",
       "       [-0.93319553, -1.42005534],\n",
       "       [-0.85653094, -1.44139743],\n",
       "       [-0.7568818 , -1.4567315 ],\n",
       "       [-0.66674165, -1.47609542],\n",
       "       [-0.5941325 , -1.49085549],\n",
       "       [-0.52978374, -1.50998978],\n",
       "       [-0.53976921, -1.53855466],\n",
       "       [-0.46990806, -1.5556422 ],\n",
       "       [-0.40860418, -1.57069718],\n",
       "       [-0.35246099, -1.5901818 ],\n",
       "       [-0.28781165, -1.60349697],\n",
       "       [-0.26475194, -1.62440236],\n",
       "       [-0.21474644, -1.64334005],\n",
       "       [-0.17298046, -1.66104104],\n",
       "       [-0.14134375, -1.68027101],\n",
       "       [-0.09477493, -1.69677009],\n",
       "       [-0.03325993, -1.70800921],\n",
       "       [-0.00708823, -1.73018369],\n",
       "       [-0.06474608, -1.74676731],\n",
       "       [-0.08694267,  1.74408255],\n",
       "       [-0.13949543,  1.72614659],\n",
       "       [-0.20216254,  1.71240053],\n",
       "       [-0.21603588,  1.69113185],\n",
       "       [-0.23892567,  1.67187992],\n",
       "       [-0.29545798,  1.65612704],\n",
       "       [-0.35009095,  1.63958512],\n",
       "       [-0.39697565,  1.62838511],\n",
       "       [-0.44814885,  1.61037281],\n",
       "       [-0.4386218 ,  1.58095548],\n",
       "       [-0.50139458,  1.56610833],\n",
       "       [-0.58316728,  1.5481671 ],\n",
       "       [-0.64666709,  1.53414606],\n",
       "       [-0.72898962,  1.5164566 ],\n",
       "       [-0.80929527,  1.49713269],\n",
       "       [-0.87760852,  1.47770695],\n",
       "       [-0.92859153,  1.45537086],\n",
       "       [-1.00128535,  1.43064614],\n",
       "       [-1.03982611,  1.40176898],\n",
       "       [-1.03280988,  1.37847737],\n",
       "       [-0.95840876,  1.36464584],\n",
       "       [-0.88208421,  1.357192  ],\n",
       "       [-0.79714247,  1.35267621],\n",
       "       [-0.71933121,  1.35106497],\n",
       "       [-0.62604656,  1.34930368],\n",
       "       [-0.54243185,  1.33711113],\n",
       "       [-0.45705789,  1.33413113],\n",
       "       [-0.38720876,  1.33150385],\n",
       "       [-0.3092576 ,  1.33091426],\n",
       "       [-0.23208431,  1.32291729],\n",
       "       [-0.16995241,  1.31543942],\n",
       "       [-0.07645542,  1.31190818],\n",
       "       [ 0.00973795,  1.30355129],\n",
       "       [ 0.01324544,  1.28333335],\n",
       "       [-0.01938691,  1.26410458],\n",
       "       [-0.04892213,  1.24440147],\n",
       "       [-0.10601521,  1.22312134],\n",
       "       [-0.07683947,  1.20644317],\n",
       "       [-0.10398441,  1.16350264],\n",
       "       [-0.11690171,  1.14231133],\n",
       "       [-0.13150223,  1.12428625],\n",
       "       [-0.16240109,  1.10239162],\n",
       "       [-0.12013736,  1.08469486],\n",
       "       [-0.16136774,  1.06658864],\n",
       "       [-0.19818555,  1.04229638],\n",
       "       [-0.23888471,  1.01781526],\n",
       "       [-0.28099098,  0.99834346],\n",
       "       [-0.31143434,  0.97497523],\n",
       "       [-0.34714864,  0.95414462],\n",
       "       [-0.37975081,  0.93264898],\n",
       "       [-0.40964064,  0.90770107],\n",
       "       [-0.37948478,  0.86225112],\n",
       "       [-0.27935609,  0.85477356],\n",
       "       [-0.1793355 ,  0.85048852],\n",
       "       [-0.11091082,  0.84114836],\n",
       "       [-0.02071631,  0.83510535],\n",
       "       [ 0.04081573,  0.81949615],\n",
       "       [ 0.05261469,  0.79846468],\n",
       "       [ 0.06623369,  0.77994501],\n",
       "       [ 0.06105225,  0.7606989 ],\n",
       "       [ 0.04790618,  0.74323339],\n",
       "       [ 0.02242498,  0.72473223],\n",
       "       [ 0.06192212,  0.71244015],\n",
       "       [ 0.04334411,  0.69392668],\n",
       "       [ 0.01349283,  0.6765642 ],\n",
       "       [-0.01380679,  0.65881341],\n",
       "       [-0.04851314,  0.63971152],\n",
       "       [-0.07515693,  0.62338394],\n",
       "       [-0.08468777,  0.60567607],\n",
       "       [-0.06174289,  0.58600069],\n",
       "       [-0.09057719,  0.56782746],\n",
       "       [-0.13199897,  0.5499611 ],\n",
       "       [-0.17084323,  0.5314968 ],\n",
       "       [-0.19851895,  0.51069826],\n",
       "       [-0.22317983,  0.49614839],\n",
       "       [-0.2468023 ,  0.47418703],\n",
       "       [-0.25875327,  0.45363065],\n",
       "       [-0.26754564,  0.432889  ],\n",
       "       [-0.27314315,  0.41201734],\n",
       "       [-0.29105747,  0.39076098],\n",
       "       [-0.32109678,  0.36873247],\n",
       "       [-0.34754897,  0.34614375],\n",
       "       [-0.364198  ,  0.32536986],\n",
       "       [-0.38349078,  0.30191826],\n",
       "       [-0.39886691,  0.27809197],\n",
       "       [-0.41511191,  0.25141948],\n",
       "       [-0.44218872,  0.2293346 ],\n",
       "       [-0.48013408,  0.20504917],\n",
       "       [-0.52794736,  0.17802293],\n",
       "       [-0.55948533,  0.15845557],\n",
       "       [-0.62478168,  0.14097788],\n",
       "       [-0.68590114,  0.12215157],\n",
       "       [-0.61514107,  0.11112414],\n",
       "       [-0.50492586,  0.10804518],\n",
       "       [-0.42244864,  0.09793946]])"
      ]
     },
     "execution_count": 44,
     "metadata": {},
     "output_type": "execute_result"
    }
   ],
   "source": [
    "tmp = contours_data[0]\n",
    "tmp"
   ]
  },
  {
   "cell_type": "code",
   "execution_count": 46,
   "metadata": {
    "ExecuteTime": {
     "end_time": "2018-06-19T06:49:42.063592Z",
     "start_time": "2018-06-19T06:49:42.031250Z"
    }
   },
   "outputs": [
    {
     "data": {
      "text/plain": [
       "array([[-0.42244864,  0.09793946],\n",
       "       [-0.50492586,  0.10804518],\n",
       "       [-0.61514107,  0.11112414],\n",
       "       [-0.68590114,  0.12215157],\n",
       "       [-0.62478168,  0.14097788],\n",
       "       [-0.55948533,  0.15845557],\n",
       "       [-0.52794736,  0.17802293],\n",
       "       [-0.48013408,  0.20504917],\n",
       "       [-0.44218872,  0.2293346 ],\n",
       "       [-0.41511191,  0.25141948],\n",
       "       [-0.39886691,  0.27809197],\n",
       "       [-0.38349078,  0.30191826],\n",
       "       [-0.364198  ,  0.32536986],\n",
       "       [-0.34754897,  0.34614375],\n",
       "       [-0.32109678,  0.36873247],\n",
       "       [-0.29105747,  0.39076098],\n",
       "       [-0.27314315,  0.41201734],\n",
       "       [-0.26754564,  0.432889  ],\n",
       "       [-0.25875327,  0.45363065],\n",
       "       [-0.2468023 ,  0.47418703],\n",
       "       [-0.22317983,  0.49614839],\n",
       "       [-0.19851895,  0.51069826],\n",
       "       [-0.17084323,  0.5314968 ],\n",
       "       [-0.13199897,  0.5499611 ],\n",
       "       [-0.09057719,  0.56782746],\n",
       "       [-0.06174289,  0.58600069],\n",
       "       [-0.08468777,  0.60567607],\n",
       "       [-0.07515693,  0.62338394],\n",
       "       [-0.04851314,  0.63971152],\n",
       "       [-0.01380679,  0.65881341],\n",
       "       [ 0.01349283,  0.6765642 ],\n",
       "       [ 0.04334411,  0.69392668],\n",
       "       [ 0.06192212,  0.71244015],\n",
       "       [ 0.02242498,  0.72473223],\n",
       "       [ 0.04790618,  0.74323339],\n",
       "       [ 0.06105225,  0.7606989 ],\n",
       "       [ 0.06623369,  0.77994501],\n",
       "       [ 0.05261469,  0.79846468],\n",
       "       [ 0.04081573,  0.81949615],\n",
       "       [-0.02071631,  0.83510535],\n",
       "       [-0.11091082,  0.84114836],\n",
       "       [-0.1793355 ,  0.85048852],\n",
       "       [-0.27935609,  0.85477356],\n",
       "       [-0.37948478,  0.86225112],\n",
       "       [-0.40964064,  0.90770107],\n",
       "       [-0.37975081,  0.93264898],\n",
       "       [-0.34714864,  0.95414462],\n",
       "       [-0.31143434,  0.97497523],\n",
       "       [-0.28099098,  0.99834346],\n",
       "       [-0.23888471,  1.01781526],\n",
       "       [-0.19818555,  1.04229638],\n",
       "       [-0.16136774,  1.06658864],\n",
       "       [-0.12013736,  1.08469486],\n",
       "       [-0.16240109,  1.10239162],\n",
       "       [-0.13150223,  1.12428625],\n",
       "       [-0.11690171,  1.14231133],\n",
       "       [-0.10398441,  1.16350264],\n",
       "       [-0.07683947,  1.20644317],\n",
       "       [-0.10601521,  1.22312134],\n",
       "       [-0.04892213,  1.24440147],\n",
       "       [-0.01938691,  1.26410458],\n",
       "       [ 0.01324544,  1.28333335],\n",
       "       [ 0.00973795,  1.30355129],\n",
       "       [-0.07645542,  1.31190818],\n",
       "       [-0.16995241,  1.31543942],\n",
       "       [-0.23208431,  1.32291729],\n",
       "       [-0.3092576 ,  1.33091426],\n",
       "       [-0.38720876,  1.33150385],\n",
       "       [-0.45705789,  1.33413113],\n",
       "       [-0.54243185,  1.33711113],\n",
       "       [-0.62604656,  1.34930368],\n",
       "       [-0.71933121,  1.35106497],\n",
       "       [-0.79714247,  1.35267621],\n",
       "       [-0.88208421,  1.357192  ],\n",
       "       [-0.95840876,  1.36464584],\n",
       "       [-1.03280988,  1.37847737],\n",
       "       [-1.03982611,  1.40176898],\n",
       "       [-1.00128535,  1.43064614],\n",
       "       [-0.92859153,  1.45537086],\n",
       "       [-0.87760852,  1.47770695],\n",
       "       [-0.80929527,  1.49713269],\n",
       "       [-0.72898962,  1.5164566 ],\n",
       "       [-0.64666709,  1.53414606],\n",
       "       [-0.58316728,  1.5481671 ],\n",
       "       [-0.50139458,  1.56610833],\n",
       "       [-0.4386218 ,  1.58095548],\n",
       "       [-0.44814885,  1.61037281],\n",
       "       [-0.39697565,  1.62838511],\n",
       "       [-0.35009095,  1.63958512],\n",
       "       [-0.29545798,  1.65612704],\n",
       "       [-0.23892567,  1.67187992],\n",
       "       [-0.21603588,  1.69113185],\n",
       "       [-0.20216254,  1.71240053],\n",
       "       [-0.13949543,  1.72614659],\n",
       "       [-0.08694267,  1.74408255],\n",
       "       [-0.06474608, -1.74676731],\n",
       "       [-0.00708823, -1.73018369],\n",
       "       [-0.03325993, -1.70800921],\n",
       "       [-0.09477493, -1.69677009],\n",
       "       [-0.14134375, -1.68027101],\n",
       "       [-0.17298046, -1.66104104],\n",
       "       [-0.21474644, -1.64334005],\n",
       "       [-0.26475194, -1.62440236],\n",
       "       [-0.28781165, -1.60349697],\n",
       "       [-0.35246099, -1.5901818 ],\n",
       "       [-0.40860418, -1.57069718],\n",
       "       [-0.46990806, -1.5556422 ],\n",
       "       [-0.53976921, -1.53855466],\n",
       "       [-0.52978374, -1.50998978],\n",
       "       [-0.5941325 , -1.49085549],\n",
       "       [-0.66674165, -1.47609542],\n",
       "       [-0.7568818 , -1.4567315 ],\n",
       "       [-0.85653094, -1.44139743],\n",
       "       [-0.93319553, -1.42005534],\n",
       "       [-0.9992121 , -1.392921  ],\n",
       "       [-1.08526334, -1.37422503],\n",
       "       [-1.17524638, -1.35589311],\n",
       "       [-1.26388981, -1.32839409],\n",
       "       [-1.20172282, -1.32156142],\n",
       "       [-1.13303551, -1.32506316],\n",
       "       [-1.05353662, -1.3241381 ],\n",
       "       [-0.95984251, -1.32922185],\n",
       "       [-0.87424963, -1.3261147 ],\n",
       "       [-0.78860934, -1.32330622],\n",
       "       [-0.7262751 , -1.31842167],\n",
       "       [-0.63254167, -1.30943721],\n",
       "       [-0.60678074, -1.28958207],\n",
       "       [-0.51772779, -1.27595759],\n",
       "       [-0.42903404, -1.26752104],\n",
       "       [-0.33989103, -1.25975727],\n",
       "       [-0.19585208, -1.23931683],\n",
       "       [-0.09648425, -1.23184396],\n",
       "       [-0.02101053, -1.22578111],\n",
       "       [ 0.0695019 , -1.21224591],\n",
       "       [ 0.06424525, -1.19344936],\n",
       "       [ 0.01678819, -1.17202568],\n",
       "       [-0.01184049, -1.15084771],\n",
       "       [-0.05140968, -1.12807288],\n",
       "       [-0.02872292, -1.10973288],\n",
       "       [-0.08726129, -1.09125612],\n",
       "       [-0.12947385, -1.06545645],\n",
       "       [-0.16002135, -1.04371258],\n",
       "       [-0.14922895, -1.02444527],\n",
       "       [-0.1441983 , -1.00584161],\n",
       "       [-0.19492275, -0.99000906],\n",
       "       [-0.24326444, -0.97080013],\n",
       "       [-0.28874132, -0.95080091],\n",
       "       [-0.33210536, -0.92728323],\n",
       "       [-0.35880218, -0.91109726],\n",
       "       [-0.34962744, -0.85825005],\n",
       "       [-0.28082431, -0.84542834],\n",
       "       [-0.19277139, -0.84669179],\n",
       "       [-0.10187667, -0.83791512],\n",
       "       [-0.03229638, -0.82931657],\n",
       "       [ 0.04877661, -0.82143131],\n",
       "       [ 0.11004149, -0.81075067],\n",
       "       [ 0.16228611, -0.7988799 ],\n",
       "       [ 0.19805003, -0.78191281],\n",
       "       [ 0.20397303, -0.76403469],\n",
       "       [ 0.20205646, -0.7457201 ],\n",
       "       [ 0.1894635 , -0.72895796],\n",
       "       [ 0.1445953 , -0.71221719],\n",
       "       [ 0.09866417, -0.6971032 ],\n",
       "       [ 0.06507112, -0.68227425],\n",
       "       [ 0.07230188, -0.6653524 ],\n",
       "       [ 0.01820053, -0.65029077],\n",
       "       [-0.02922268, -0.63241393],\n",
       "       [-0.05436187, -0.61609877],\n",
       "       [-0.09659282, -0.59709575],\n",
       "       [-0.14153505, -0.57961903],\n",
       "       [-0.17473394, -0.56287696],\n",
       "       [-0.16254944, -0.54012499],\n",
       "       [-0.19935035, -0.52120768],\n",
       "       [-0.23334984, -0.50171696],\n",
       "       [-0.27996969, -0.48195326],\n",
       "       [-0.33109732, -0.46339791],\n",
       "       [-0.37187755, -0.44201835],\n",
       "       [-0.40932055, -0.41986441],\n",
       "       [-0.42771034, -0.39728589],\n",
       "       [-0.44254453, -0.37435459],\n",
       "       [-0.4472903 , -0.35350676],\n",
       "       [-0.47963326, -0.33096414],\n",
       "       [-0.50475879, -0.30368011],\n",
       "       [-0.53455018, -0.2772032 ],\n",
       "       [-0.5449479 , -0.25144382],\n",
       "       [-0.55681234, -0.22948278],\n",
       "       [-0.56944406, -0.20441074],\n",
       "       [-0.57095744, -0.1752093 ],\n",
       "       [-0.57476573, -0.14979079],\n",
       "       [-0.579156  , -0.1183121 ],\n",
       "       [-0.60062306, -0.08463725],\n",
       "       [-0.60069979, -0.05942452],\n",
       "       [-0.61877783, -0.03462453],\n",
       "       [-0.63294424, -0.00941147],\n",
       "       [-0.64226936,  0.02250594],\n",
       "       [-0.65731109,  0.05175079],\n",
       "       [-0.69202545,  0.07586713],\n",
       "       [-0.60000182,  0.08167709],\n",
       "       [-0.50022691,  0.08062834],\n",
       "       [-0.42405636,  0.09218795]])"
      ]
     },
     "execution_count": 46,
     "metadata": {},
     "output_type": "execute_result"
    }
   ],
   "source": [
    "tmp"
   ]
  },
  {
   "cell_type": "code",
   "execution_count": 45,
   "metadata": {
    "ExecuteTime": {
     "end_time": "2018-06-19T06:49:34.873163Z",
     "start_time": "2018-06-19T06:49:34.864211Z"
    }
   },
   "outputs": [],
   "source": [
    "tmp = tmp[::-1]"
   ]
  },
  {
   "cell_type": "code",
   "execution_count": 8,
   "metadata": {
    "ExecuteTime": {
     "end_time": "2018-06-19T06:29:40.240893Z",
     "start_time": "2018-06-19T06:29:40.228059Z"
    },
    "scrolled": true
   },
   "outputs": [
    {
     "data": {
      "text/plain": [
       "array([[[-0.42405636,  0.09218795],\n",
       "        [-0.50022691,  0.08062834],\n",
       "        [-0.60000182,  0.08167709],\n",
       "        ...,\n",
       "        [-0.61514107,  0.11112414],\n",
       "        [-0.50492586,  0.10804518],\n",
       "        [-0.42244864,  0.09793946]],\n",
       "\n",
       "       [[-0.68883765,  0.53914366],\n",
       "        [-0.75750494,  0.53280322],\n",
       "        [-0.83776919,  0.52761465],\n",
       "        ...,\n",
       "        [-0.56384435,  0.57711055],\n",
       "        [-0.61816661,  0.56041884],\n",
       "        [-0.68290787,  0.54821944]],\n",
       "\n",
       "       [[-0.51725814,  0.0309104 ],\n",
       "        [-0.5120498 , -0.00210803],\n",
       "        [-0.5200986 , -0.03216375],\n",
       "        ...,\n",
       "        [-0.53904696,  0.1077441 ],\n",
       "        [-0.52338655,  0.07942136],\n",
       "        [-0.52550347,  0.0491682 ]],\n",
       "\n",
       "       ...,\n",
       "\n",
       "       [[ 1.51816053,  0.12000976],\n",
       "        [ 1.36380175,  0.08977059],\n",
       "        [ 1.15948099,  0.05981178],\n",
       "        ...,\n",
       "        [ 0.71840157,  0.12140042],\n",
       "        [ 1.00922112,  0.12708499],\n",
       "        [ 1.29343356,  0.12068957]],\n",
       "\n",
       "       [[ 1.01305044,  0.71600929],\n",
       "        [ 0.89623639,  0.71084959],\n",
       "        [ 0.74888937,  0.70330089],\n",
       "        ...,\n",
       "        [ 1.36514423,  0.73581348],\n",
       "        [ 1.22932672,  0.72902657],\n",
       "        [ 1.09411133,  0.72173763]],\n",
       "\n",
       "       [[-0.82726091,  0.02782571],\n",
       "        [-0.90429958,  0.02920964],\n",
       "        [-0.9509175 ,  0.0034695 ],\n",
       "        ...,\n",
       "        [-0.9069634 ,  0.08889101],\n",
       "        [-0.89701751,  0.058612  ],\n",
       "        [-0.84790622,  0.0353382 ]]])"
      ]
     },
     "execution_count": 8,
     "metadata": {},
     "output_type": "execute_result"
    }
   ],
   "source": [
    "contours_data"
   ]
  },
  {
   "cell_type": "code",
   "execution_count": 7,
   "metadata": {
    "ExecuteTime": {
     "end_time": "2018-06-19T06:29:26.672777Z",
     "start_time": "2018-06-19T06:29:26.656692Z"
    },
    "scrolled": true
   },
   "outputs": [
    {
     "data": {
      "text/plain": [
       "array([[[-0.10845699,  1.25129277],\n",
       "        [-0.07860927,  1.23423046],\n",
       "        [-0.10637943,  1.19030091],\n",
       "        ...,\n",
       "        [ 0.01355051,  1.31289161],\n",
       "        [-0.01983344,  1.29321996],\n",
       "        [-0.05004893,  1.27306304]],\n",
       "\n",
       "       [[-0.75932541, -1.17241419],\n",
       "        [-0.8126421 , -1.19098056],\n",
       "        [-0.87641478, -1.20475655],\n",
       "        ...,\n",
       "        [-0.56869588, -1.14088694],\n",
       "        [-0.64567058, -1.1527394 ],\n",
       "        [-0.71057561, -1.17127514]],\n",
       "\n",
       "       [[ 0.15908392,  0.9621072 ],\n",
       "        [ 0.24276939,  0.93305715],\n",
       "        [ 0.25693993,  0.91080139],\n",
       "        ...,\n",
       "        [ 0.03215766,  1.00971775],\n",
       "        [ 0.03536815,  0.99007986],\n",
       "        [ 0.08908135,  0.97366977]],\n",
       "\n",
       "       ...,\n",
       "\n",
       "       [[-0.48003332,  0.02287501],\n",
       "        [-0.49341266, -0.00748354],\n",
       "        [-0.48861889, -0.04098208],\n",
       "        ...,\n",
       "        [-0.45431864,  0.10712618],\n",
       "        [-0.47440479,  0.0744339 ],\n",
       "        [-0.48557389,  0.04730681]],\n",
       "\n",
       "       [[ 0.10595383, -0.78427601],\n",
       "        [-0.01355612, -0.79901297],\n",
       "        [ 0.08722199, -0.81129067],\n",
       "        ...,\n",
       "        [-0.11301354, -0.7103029 ],\n",
       "        [-0.02841646, -0.73548703],\n",
       "        [ 0.05025251, -0.76289123]],\n",
       "\n",
       "       [[-0.25032542, -1.27824726],\n",
       "        [-0.32261931, -1.29992826],\n",
       "        [-0.40723846, -1.3228378 ],\n",
       "        ...,\n",
       "        [-0.01520308, -1.22080227],\n",
       "        [-0.09633934, -1.23875386],\n",
       "        [-0.17480205, -1.25787846]]])"
      ]
     },
     "execution_count": 7,
     "metadata": {},
     "output_type": "execute_result"
    }
   ],
   "source": [
    "tmp_contours[0,::]"
   ]
  },
  {
   "cell_type": "code",
   "execution_count": 42,
   "metadata": {
    "ExecuteTime": {
     "end_time": "2018-06-19T06:48:26.255487Z",
     "start_time": "2018-06-19T06:48:26.239669Z"
    }
   },
   "outputs": [
    {
     "data": {
      "text/plain": [
       "array([[[-0.8826667 ,  0.16880112],\n",
       "        [-0.78153808,  0.16417672],\n",
       "        [-0.78084117,  0.10305765],\n",
       "        ...,\n",
       "        [-0.8794429 ,  0.25657781],\n",
       "        [-0.93888085,  0.22337361],\n",
       "        [-0.95654103,  0.19020301]],\n",
       "\n",
       "       [[-0.28223159,  0.09929139],\n",
       "        [-0.46198029,  0.0603607 ],\n",
       "        [-0.70775569,  0.01187984],\n",
       "        ...,\n",
       "        [-0.17536641,  0.17761062],\n",
       "        [-0.17123599,  0.13423515],\n",
       "        [-0.16818699,  0.12609356]],\n",
       "\n",
       "       [[ 1.05347883,  0.85967067],\n",
       "        [ 1.10697008,  0.85147342],\n",
       "        [ 1.17212989,  0.841965  ],\n",
       "        ...,\n",
       "        [ 0.89890054,  0.88747868],\n",
       "        [ 0.94960766,  0.87849183],\n",
       "        [ 0.99046154,  0.86982385]],\n",
       "\n",
       "       ...,\n",
       "\n",
       "       [[ 0.10575237,  0.82870963],\n",
       "        [ 0.13815478,  0.81307508],\n",
       "        [ 0.14123876,  0.79435598],\n",
       "        ...,\n",
       "        [ 0.2358933 ,  0.87447591],\n",
       "        [ 0.17094994,  0.86252351],\n",
       "        [ 0.10641384,  0.85234476]],\n",
       "\n",
       "       [[-0.62445986,  1.18061308],\n",
       "        [-0.59552914,  1.16346194],\n",
       "        [-0.53078092,  1.15402651],\n",
       "        ...,\n",
       "        [-0.84562977,  1.22746561],\n",
       "        [-0.83246821,  1.20920457],\n",
       "        [-0.72117058,  1.19516943]],\n",
       "\n",
       "       [[-0.23729233, -0.9469671 ],\n",
       "        [-0.19013742, -0.96570446],\n",
       "        [-0.14065825, -0.98114832],\n",
       "        ...,\n",
       "        [-0.34999363, -0.88872994],\n",
       "        [-0.32395222, -0.90451853],\n",
       "        [-0.28165276, -0.92745886]]])"
      ]
     },
     "execution_count": 42,
     "metadata": {},
     "output_type": "execute_result"
    }
   ],
   "source": [
    "tmp_contours[::-1]"
   ]
  },
  {
   "cell_type": "code",
   "execution_count": 48,
   "metadata": {
    "ExecuteTime": {
     "end_time": "2018-06-19T06:50:45.023726Z",
     "start_time": "2018-06-19T06:50:45.010190Z"
    }
   },
   "outputs": [
    {
     "name": "stdout",
     "output_type": "stream",
     "text": [
      "222\n",
      "222\n",
      "222\n"
     ]
    }
   ],
   "source": [
    "for _ in range(10):\n",
    "    if random.randint(low=0,high=2):\n",
    "        print '222'"
   ]
  },
  {
   "cell_type": "code",
   "execution_count": 39,
   "metadata": {
    "ExecuteTime": {
     "end_time": "2018-06-19T06:47:59.457211Z",
     "start_time": "2018-06-19T06:47:59.447825Z"
    }
   },
   "outputs": [],
   "source": [
    "tmp = range(10)\n",
    "tmp = tmp[::-1]"
   ]
  },
  {
   "cell_type": "code",
   "execution_count": 40,
   "metadata": {
    "ExecuteTime": {
     "end_time": "2018-06-19T06:48:02.459070Z",
     "start_time": "2018-06-19T06:48:02.443788Z"
    }
   },
   "outputs": [
    {
     "data": {
      "text/plain": [
       "[9, 8, 7, 6, 5, 4, 3, 2, 1, 0]"
      ]
     },
     "execution_count": 40,
     "metadata": {},
     "output_type": "execute_result"
    }
   ],
   "source": [
    "tmp"
   ]
  }
 ],
 "metadata": {
  "kernelspec": {
   "display_name": "Python 2",
   "language": "python",
   "name": "python2"
  },
  "language_info": {
   "codemirror_mode": {
    "name": "ipython",
    "version": 2
   },
   "file_extension": ".py",
   "mimetype": "text/x-python",
   "name": "python",
   "nbconvert_exporter": "python",
   "pygments_lexer": "ipython2",
   "version": "2.7.12"
  },
  "nbTranslate": {
   "displayLangs": [
    "*"
   ],
   "hotkey": "alt-t",
   "langInMainMenu": true,
   "sourceLang": "en",
   "targetLang": "fr",
   "useGoogleTranslate": true
  },
  "toc": {
   "nav_menu": {},
   "number_sections": true,
   "sideBar": true,
   "skip_h1_title": false,
   "title_cell": "Table of Contents",
   "title_sidebar": "Contents",
   "toc_cell": false,
   "toc_position": {},
   "toc_section_display": true,
   "toc_window_display": false
  },
  "varInspector": {
   "cols": {
    "lenName": 16,
    "lenType": 16,
    "lenVar": 40
   },
   "kernels_config": {
    "python": {
     "delete_cmd_postfix": "",
     "delete_cmd_prefix": "del ",
     "library": "var_list.py",
     "varRefreshCmd": "print(var_dic_list())"
    },
    "r": {
     "delete_cmd_postfix": ") ",
     "delete_cmd_prefix": "rm(",
     "library": "var_list.r",
     "varRefreshCmd": "cat(var_dic_list()) "
    }
   },
   "types_to_exclude": [
    "module",
    "function",
    "builtin_function_or_method",
    "instance",
    "_Feature"
   ],
   "window_display": false
  }
 },
 "nbformat": 4,
 "nbformat_minor": 2
}
