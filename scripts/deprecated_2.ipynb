{
 "cells": [
  {
   "cell_type": "raw",
   "metadata": {},
   "source": [
    "# 序列卷积包括以下行\n",
    "1.全部叶子距离（长度、角度）\n",
    "2.主要部分距离（长度、角度）\n",
    "3.边缘部分距离（长度、角度）\n",
    "4.叶子边缘长度\n",
    "故应为100x7\n",
    "全文件为1584x100x7"
   ]
  },
  {
   "cell_type": "code",
   "execution_count": 366,
   "metadata": {
    "ExecuteTime": {
     "end_time": "2018-06-21T14:26:32.297235Z",
     "start_time": "2018-06-21T14:26:32.291662Z"
    }
   },
   "outputs": [],
   "source": [
    "from features_extraction import extract_features,generate_features_list,plot_leaf_and_features,wrap_generate_features_list"
   ]
  },
  {
   "cell_type": "code",
   "execution_count": 363,
   "metadata": {
    "ExecuteTime": {
     "end_time": "2018-06-21T14:23:11.054799Z",
     "start_time": "2018-06-21T14:23:11.019976Z"
    }
   },
   "outputs": [],
   "source": [
    "from tqdm import tqdm_notebook as tqdm"
   ]
  },
  {
   "cell_type": "code",
   "execution_count": 367,
   "metadata": {
    "ExecuteTime": {
     "end_time": "2018-06-21T14:26:33.987053Z",
     "start_time": "2018-06-21T14:26:33.973765Z"
    }
   },
   "outputs": [],
   "source": [
    "def save_features_list(ID=range(1,1585),scale=200,save_path='../middata/my_features.npy'):\n",
    "    tmp_return = []\n",
    "    for i in tqdm(range(len(ID))):\n",
    "        tmp_feature = generate_features_list(ID)[0][i]\n",
    "        shape_series_1 = tmp_feature['shape_series'][0]\n",
    "        blade_series_1 = tmp_feature['blade_series'][0]\n",
    "        shape_series_1 = shape_series_1[:scale]\n",
    "        blade_series_1 = blade_series_1[:scale]\n",
    "        tmp_return.append(np.vstack((shape_series_1,blade_series_1)))\n",
    "        tmp_return = np.array(tmp_return)\n",
    "        if save_path:\n",
    "            np.save(save_path, tmp_return)\n",
    "    return tmp_return"
   ]
  },
  {
   "cell_type": "code",
   "execution_count": 370,
   "metadata": {
    "ExecuteTime": {
     "end_time": "2018-06-21T14:32:19.308881Z",
     "start_time": "2018-06-21T14:28:28.212093Z"
    }
   },
   "outputs": [],
   "source": [
    "tmp,_ = generate_features_list(range(1,1585),False)"
   ]
  },
  {
   "cell_type": "code",
   "execution_count": 377,
   "metadata": {
    "ExecuteTime": {
     "end_time": "2018-06-21T15:28:50.720357Z",
     "start_time": "2018-06-21T15:28:50.656024Z"
    }
   },
   "outputs": [],
   "source": [
    "scale = 200\n",
    "shape_and_blade_list = []\n",
    "for tmp_feature in tmp:\n",
    "    shape_series_1 = tmp_feature['shape_series'][0]\n",
    "    blade_series_1 = tmp_feature['blade_series'][0]\n",
    "    shape_series_1 = shape_series_1[:scale]\n",
    "    blade_series_1 = blade_series_1[:scale]\n",
    "#     shape_and_blade_list.append(np.vstack((shape_series_1,blade_series_1)).reshape((scale,2)))\n",
    "    shape_and_blade_list.append(np.vstack((shape_series_1,blade_series_1)))\n",
    "\n",
    "\n",
    "shape_and_blade_array = np.array(shape_and_blade_list)\n",
    "np.save('../middata/my_features.npy',shape_and_blade_array)"
   ]
  },
  {
   "cell_type": "code",
   "execution_count": 378,
   "metadata": {
    "ExecuteTime": {
     "end_time": "2018-06-21T15:28:55.374140Z",
     "start_time": "2018-06-21T15:28:55.365795Z"
    }
   },
   "outputs": [
    {
     "data": {
      "text/plain": [
       "(1584, 2, 200)"
      ]
     },
     "execution_count": 378,
     "metadata": {},
     "output_type": "execute_result"
    }
   ],
   "source": [
    "shape_and_blade_array.shape"
   ]
  },
  {
   "cell_type": "code",
   "execution_count": 371,
   "metadata": {
    "ExecuteTime": {
     "end_time": "2018-06-21T14:32:51.816566Z",
     "start_time": "2018-06-21T14:32:51.775355Z"
    }
   },
   "outputs": [
    {
     "data": {
      "text/plain": [
       "{'blade_center': (254.26113562034794, 267.3099485201401),\n",
       " 'blade_contour': array([[503.49764706, 295.75078431],\n",
       "        [502.24764706, 293.00078431],\n",
       "        [502.7974902 , 289.99937255],\n",
       "        ...,\n",
       "        [500.3974902 , 304.59937255],\n",
       "        [501.74764706, 301.49921569],\n",
       "        [502.99811765, 298.3987451 ]]),\n",
       " 'blade_img': array([[0, 0, 0, ..., 0, 0, 0],\n",
       "        [0, 0, 0, ..., 0, 0, 0],\n",
       "        [0, 0, 0, ..., 0, 0, 0],\n",
       "        ...,\n",
       "        [0, 0, 0, ..., 0, 0, 0],\n",
       "        [0, 0, 0, ..., 0, 0, 0],\n",
       "        [0, 0, 0, ..., 0, 0, 0]], dtype=uint8),\n",
       " 'blade_series': array([[18.29936558, 17.07699738, 17.71084897, ..., 15.41818556,\n",
       "         16.55522299, 17.80827053],\n",
       "        [ 2.        ,  3.        ,  3.        , ...,  0.        ,\n",
       "          0.        ,  1.        ]]),\n",
       " 'img_num': 1,\n",
       " 'inversion_ix': array([False, False, False, False, False, False, False, False, False,\n",
       "        False, False, False, False, False, False, False, False, False,\n",
       "        False, False, False, False, False, False, False, False, False,\n",
       "        False, False, False, False, False, False, False, False, False,\n",
       "        False, False, False, False, False, False, False, False, False,\n",
       "        False, False, False, False, False, False, False, False, False,\n",
       "        False, False, False, False, False, False, False, False, False,\n",
       "        False, False, False, False, False, False, False, False, False,\n",
       "        False, False, False, False, False, False, False, False, False,\n",
       "        False, False, False, False, False, False, False, False, False,\n",
       "        False, False, False, False, False, False, False, False, False,\n",
       "        False, False, False, False, False, False, False, False, False,\n",
       "        False, False, False, False, False, False, False, False, False,\n",
       "        False, False, False, False, False, False, False, False, False,\n",
       "        False, False, False, False, False, False, False, False, False,\n",
       "        False, False, False, False, False, False, False, False, False,\n",
       "        False, False, False, False, False, False, False, False, False,\n",
       "        False, False, False, False, False, False, False, False, False,\n",
       "        False, False, False, False, False, False, False, False, False,\n",
       "        False, False, False, False, False, False, False, False, False,\n",
       "        False, False, False, False, False, False, False, False, False,\n",
       "        False, False, False, False, False, False, False, False, False,\n",
       "        False, False, False, False, False, False, False, False, False,\n",
       "         True,  True,  True,  True,  True,  True, False, False, False,\n",
       "        False, False, False, False, False, False, False, False, False,\n",
       "        False, False, False, False, False, False, False, False, False,\n",
       "        False, False, False, False, False, False, False, False, False,\n",
       "        False, False, False, False, False, False, False, False, False,\n",
       "        False, False, False, False, False, False, False, False, False,\n",
       "        False, False, False, False, False, False, False, False, False,\n",
       "        False, False, False, False, False, False, False, False, False,\n",
       "        False, False, False, False, False, False, False, False, False,\n",
       "        False, False, False, False, False, False, False, False, False,\n",
       "        False, False, False, False, False, False, False, False, False,\n",
       "        False, False, False, False, False, False, False, False, False,\n",
       "        False, False, False, False, False, False, False, False, False,\n",
       "        False, False, False, False, False, False, False, False, False,\n",
       "        False, False, False, False, False, False, False, False, False,\n",
       "        False, False, False, False, False, False, False, False, False,\n",
       "        False, False, False, False, False, False, False, False, False,\n",
       "        False, False, False, False, False, False, False, False, False,\n",
       "        False, False, False, False, False, False, False, False, False,\n",
       "        False, False, False, False, False, False, False, False, False,\n",
       "        False, False, False, False, False, False, False, False, False,\n",
       "        False, False, False, False, False, False, False, False, False,\n",
       "        False, False, False, False, False, False, False, False, False,\n",
       "        False, False, False, False, False, False, False, False, False,\n",
       "        False, False, False, False, False, False, False, False, False,\n",
       "        False, False, False, False, False, False, False, False, False,\n",
       "        False, False, False, False, False, False, False, False, False,\n",
       "        False, False, False, False, False, False, False, False, False,\n",
       "        False, False, False, False, False, False, False, False, False,\n",
       "        False, False, False, False, False, False, False, False, False,\n",
       "        False, False, False, False, False, False, False, False, False,\n",
       "        False, False, False, False, False, False, False, False, False,\n",
       "        False, False, False, False, False, False, False, False, False,\n",
       "        False, False, False, False, False, False, False]),\n",
       " 'shape_center': (256.8587850559905, 267.76610120629545),\n",
       " 'shape_contour': array([[485.2       , 302.        ],\n",
       "        [485.2       , 299.        ],\n",
       "        [485.2       , 295.5       ],\n",
       "        ...,\n",
       "        [483.15      , 309.3       ],\n",
       "        [484.13333333, 306.73333333],\n",
       "        [484.65      , 303.8       ]]),\n",
       " 'shape_img': array([[False, False, False, ..., False, False, False],\n",
       "        [False, False, False, ..., False, False, False],\n",
       "        [False, False, False, ..., False, False, False],\n",
       "        ...,\n",
       "        [False, False, False, ..., False, False, False],\n",
       "        [False, False, False, ..., False, False, False],\n",
       "        [False, False, False, ..., False, False, False]]),\n",
       " 'shape_series': [array([230.893201  , 230.46749635, 230.01930263, 229.62358828,\n",
       "         228.79739864, 227.72138851, 226.35322554, 224.74282948,\n",
       "         223.09922508, 221.20667672, 219.43139802, 217.34671318,\n",
       "         215.32859848, 213.58724198, 211.26446036, 209.546121  ,\n",
       "         207.74153753, 205.95260622, 204.27780256, 203.03486776,\n",
       "         201.65460768, 200.19949812, 199.45339731, 198.52137215,\n",
       "         198.11665126, 197.43632808, 197.83507362, 197.43971429,\n",
       "         197.67201911, 198.76180826, 199.66247214, 200.32777014,\n",
       "         201.61821765, 202.57860483, 203.76222362, 204.9852843 ,\n",
       "         206.25038041, 207.54238705, 208.72016555, 210.24442458,\n",
       "         211.33227576, 212.47221815, 214.27883993, 215.47927773,\n",
       "         216.75085199, 217.47177346, 217.92757173, 219.32861015,\n",
       "         219.71928376, 220.80432956, 221.12767373, 221.88939907,\n",
       "         222.32653144, 223.11490064, 223.58053365, 223.99468886,\n",
       "         224.32911354, 224.80172773, 225.20401269, 225.73438582,\n",
       "         226.00213485, 226.25028142, 226.65737875, 227.08122409,\n",
       "         227.43046008, 227.87142596, 228.32018187, 228.39474601,\n",
       "         228.63947357, 228.51901787, 228.34573437, 227.88078609,\n",
       "         227.21907482, 225.76324129, 224.31441179, 222.11079719,\n",
       "         219.59860166, 217.04770112, 214.57602219, 212.04413589,\n",
       "         209.58233211, 207.16277161, 204.60824295, 202.09094547,\n",
       "         199.78465313, 197.13072798, 194.82602829, 192.16909228,\n",
       "         189.86957358, 187.2144057 , 184.77313396, 182.3680542 ,\n",
       "         179.82246256, 177.70299466, 175.30169368, 172.76290792,\n",
       "         170.26551321, 167.8412487 , 165.45790512, 162.80449286,\n",
       "         160.49981894, 158.02112553, 155.71428197, 153.45259563,\n",
       "         151.77683394, 150.72739089, 150.29790276, 149.80581189,\n",
       "         150.23565112, 149.98615991, 150.49922842, 151.51273141,\n",
       "         152.30068705, 153.38662251, 154.78258143, 155.85102618,\n",
       "         157.53503214, 159.33749877, 161.07539385, 162.92739078,\n",
       "         165.04796973, 167.05512107, 169.10834434, 171.53711528,\n",
       "         173.57703072, 175.55313846, 177.79211288, 179.91196893,\n",
       "         182.07782735, 183.91088254, 186.11107266, 187.97901178,\n",
       "         189.37537363, 191.27576294, 192.81417318, 194.37503504,\n",
       "         195.61038786, 196.87090549, 198.69299272, 199.99708735,\n",
       "         201.02782054, 202.37379825, 203.7426902 , 205.0561592 ,\n",
       "         206.38927549, 207.5306579 , 208.61591484, 210.09324005,\n",
       "         211.59087671, 212.5356723 , 213.99805138, 214.98692725,\n",
       "         216.2215554 , 217.18204696, 218.4419087 , 219.34083452,\n",
       "         220.40193624, 221.46864488, 222.19764698, 223.0402651 ,\n",
       "         223.00455589, 223.92073928, 223.56964496, 223.00870228,\n",
       "         222.3406508 , 221.62667259, 220.55540901, 219.31077935,\n",
       "         218.17276752, 216.881832  , 215.52037064, 214.27016294,\n",
       "         212.95235108, 211.46545571, 209.99555729, 208.45811988,\n",
       "         206.94057458, 205.52599965, 203.74503009, 202.09097068,\n",
       "         200.73030553, 198.72238005, 197.39878282, 195.42366344,\n",
       "         193.73928097, 192.42026017, 190.49326838, 188.85846391,\n",
       "         186.9684977 , 185.36790454, 183.40998002, 181.53728015,\n",
       "         179.71676928, 177.77725552, 175.88818531, 173.66843901,\n",
       "         171.17667182, 169.04880187, 166.52703149, 163.78468112,\n",
       "         160.64526661, 158.57914783, 155.34552912, 152.29039069,\n",
       "         150.23367723, 147.0426641 , 144.6616738 , 142.04037954,\n",
       "         140.04155335, 137.75702232, 135.85814627, 133.85555757,\n",
       "         132.47192169, 131.44980386, 130.40398428, 129.86305394,\n",
       "         129.39608921, 129.64600438, 130.47900801, 131.70836466,\n",
       "         133.88560347, 136.31987605, 138.62029253, 140.89559456,\n",
       "         143.51232407, 145.86853828, 148.26882231, 150.74039064,\n",
       "         153.27134861, 155.64773134, 158.06600777, 160.55710671,\n",
       "         162.66131235, 165.09446511, 167.60237108, 170.04817261,\n",
       "         172.43220138, 175.03665218, 177.58911563, 179.98493777,\n",
       "         182.65584774, 185.18035038, 187.64005856, 190.32236718,\n",
       "         192.95380839, 195.38552998, 198.14807371, 200.64083071,\n",
       "         203.42639145, 205.94169217, 208.69533312, 210.58093706,\n",
       "         212.61499793, 213.7508291 , 214.55231128, 215.43094122,\n",
       "         215.4078098 , 215.13094679, 214.78398378, 214.1090806 ,\n",
       "         213.36933421, 212.6783192 , 211.63756323, 210.56113557,\n",
       "         209.15015696, 208.59989494, 207.00797922, 205.46335622,\n",
       "         205.12245191, 203.84090636, 202.43641569, 201.08304178,\n",
       "         199.78182345, 198.53378622, 197.3399391 , 196.20127129,\n",
       "         194.70373787, 193.4234424 , 191.9882846 , 190.93832257,\n",
       "         189.31491043, 187.9654454 , 186.89721129, 185.37428746,\n",
       "         184.25502468, 183.19747724, 181.95647005, 181.19879934,\n",
       "         180.69557873, 180.2589234 , 179.88931807, 180.21641843,\n",
       "         180.61363109, 181.27086963, 182.31140405, 183.365513  ,\n",
       "         184.7677106 , 186.25929045, 187.97089776, 189.37130853,\n",
       "         191.54165915, 193.4017085 , 195.17263122, 197.21959037,\n",
       "         199.32844667, 201.70663896, 203.52224282, 205.91561833,\n",
       "         207.7517196 , 209.59931327, 211.56778059, 213.54844754,\n",
       "         215.23718765, 216.74383975, 218.07300043, 219.41254795,\n",
       "         219.98051662, 220.57609794, 220.25838534, 219.83537081,\n",
       "         219.21556337, 218.54846675, 217.88029127, 216.84407097,\n",
       "         215.95494855, 214.96294935, 213.85385187, 213.00618932,\n",
       "         212.11692162, 211.00541184, 209.91555257, 208.78555894,\n",
       "         207.52852736, 206.01879219, 204.96041848, 203.98497133,\n",
       "         202.59948424, 201.39811728, 200.49353363, 199.23304469,\n",
       "         198.04744417, 196.83657996, 195.698552  , 194.87430221,\n",
       "         193.45039769, 192.68193163, 191.30653276, 190.59554005,\n",
       "         189.72543302, 188.61864436, 187.80363783, 186.75472179,\n",
       "         185.5359502 , 184.66087264, 183.84428718, 182.52811486,\n",
       "         181.34411216, 180.12695173, 178.96115934, 177.87804033,\n",
       "         176.70017128, 175.56178775, 174.0962328 , 173.02135435,\n",
       "         172.09240743, 170.61312026, 169.75377593, 168.69626816,\n",
       "         167.55563907, 166.74768537, 165.97480246, 165.10172492,\n",
       "         164.17481834, 163.5080491 , 162.940018  , 162.3003474 ,\n",
       "         161.34248421, 160.78541759, 160.25991794, 159.43807028,\n",
       "         158.64833028, 158.2625856 , 157.5602756 , 156.80440314,\n",
       "         156.10986487, 155.5334052 , 154.90302421, 154.45421285,\n",
       "         154.03245863, 153.30141521, 153.02582584, 152.88677074,\n",
       "         152.22617526, 151.97320652, 151.75262073, 151.70214716,\n",
       "         151.57511305, 151.22069618, 151.20042334, 150.96236031,\n",
       "         150.84854104, 151.05116441, 150.53452996, 150.84434575,\n",
       "         150.26062408, 149.75644779, 150.08939597, 150.07516794,\n",
       "         149.79250494, 149.5912198 , 149.4262834 , 148.43638308,\n",
       "         148.45739566, 148.56088594, 148.74668177, 148.56418567,\n",
       "         148.26126304, 148.67125016, 149.08718225, 149.64700604,\n",
       "         150.28627656, 151.0039848 , 151.79901822, 151.6525977 ,\n",
       "         152.37706098, 153.3818999 , 154.45952778, 155.60843238,\n",
       "         157.05225522, 158.66803901, 159.99464087, 161.38625596,\n",
       "         162.8412175 , 164.3578432 , 166.28519728, 167.97935289,\n",
       "         169.64610666, 170.20096933, 171.77202416, 173.59397106,\n",
       "         174.34500527, 175.84947027, 176.57656087, 177.73080167,\n",
       "         178.56290783, 179.42310881, 180.44831459, 181.26862962,\n",
       "         182.23737745, 183.09514691, 183.95417444, 184.87674103,\n",
       "         185.58131345, 186.26367921, 187.09915773, 187.9667449 ,\n",
       "         188.74906673, 189.62064447, 190.52760956, 191.05391928,\n",
       "         191.96079393, 192.60082849, 193.51718422, 194.09899026,\n",
       "         194.72551685, 195.21346296, 195.99548171, 197.05900209,\n",
       "         197.4313936 , 198.55320856, 199.33011328, 200.16119243,\n",
       "         200.99233913, 201.880235  , 203.1083683 , 204.16503433,\n",
       "         204.98520824, 206.09501264, 207.16487227, 208.31323029,\n",
       "         209.04733496, 210.25874589, 211.22669003, 212.0407058 ,\n",
       "         212.83459726, 213.6525934 , 214.54467368, 215.46313685,\n",
       "         216.35449664, 217.26880377, 217.61214193, 218.57563723,\n",
       "         219.29827399, 219.98837536, 221.08295192, 221.5049918 ,\n",
       "         222.64870925, 223.12336832, 224.00348495, 224.84130757,\n",
       "         225.46379934, 226.24845156, 227.12554576, 227.7605933 ,\n",
       "         228.39273049, 228.97823144, 229.36322808, 229.64167948,\n",
       "         230.07124703, 230.59090501, 230.62367499]),\n",
       "  [0,\n",
       "   1,\n",
       "   2,\n",
       "   3,\n",
       "   4,\n",
       "   5,\n",
       "   6,\n",
       "   7,\n",
       "   8,\n",
       "   9,\n",
       "   10,\n",
       "   11,\n",
       "   12,\n",
       "   13,\n",
       "   14,\n",
       "   15,\n",
       "   16,\n",
       "   17,\n",
       "   18,\n",
       "   19,\n",
       "   20,\n",
       "   21,\n",
       "   22,\n",
       "   23,\n",
       "   24,\n",
       "   25,\n",
       "   26,\n",
       "   27,\n",
       "   28,\n",
       "   29,\n",
       "   30,\n",
       "   31,\n",
       "   32,\n",
       "   33,\n",
       "   34,\n",
       "   35,\n",
       "   36,\n",
       "   37,\n",
       "   38,\n",
       "   39,\n",
       "   40,\n",
       "   41,\n",
       "   42,\n",
       "   43,\n",
       "   44,\n",
       "   45,\n",
       "   46,\n",
       "   47,\n",
       "   48,\n",
       "   49,\n",
       "   50,\n",
       "   51,\n",
       "   52,\n",
       "   53,\n",
       "   54,\n",
       "   55,\n",
       "   56,\n",
       "   57,\n",
       "   58,\n",
       "   59,\n",
       "   60,\n",
       "   61,\n",
       "   62,\n",
       "   63,\n",
       "   64,\n",
       "   65,\n",
       "   66,\n",
       "   67,\n",
       "   68,\n",
       "   69,\n",
       "   70,\n",
       "   71,\n",
       "   72,\n",
       "   73,\n",
       "   74,\n",
       "   75,\n",
       "   76,\n",
       "   77,\n",
       "   78,\n",
       "   79,\n",
       "   80,\n",
       "   81,\n",
       "   82,\n",
       "   83,\n",
       "   84,\n",
       "   85,\n",
       "   86,\n",
       "   87,\n",
       "   88,\n",
       "   89,\n",
       "   90,\n",
       "   91,\n",
       "   92,\n",
       "   93,\n",
       "   94,\n",
       "   95,\n",
       "   96,\n",
       "   97,\n",
       "   98,\n",
       "   99,\n",
       "   100,\n",
       "   101,\n",
       "   102,\n",
       "   103,\n",
       "   104,\n",
       "   105,\n",
       "   106,\n",
       "   107,\n",
       "   108,\n",
       "   109,\n",
       "   110,\n",
       "   111,\n",
       "   112,\n",
       "   113,\n",
       "   114,\n",
       "   115,\n",
       "   116,\n",
       "   117,\n",
       "   118,\n",
       "   119,\n",
       "   120,\n",
       "   121,\n",
       "   122,\n",
       "   123,\n",
       "   124,\n",
       "   125,\n",
       "   126,\n",
       "   127,\n",
       "   128,\n",
       "   129,\n",
       "   130,\n",
       "   131,\n",
       "   132,\n",
       "   133,\n",
       "   134,\n",
       "   135,\n",
       "   136,\n",
       "   137,\n",
       "   138,\n",
       "   139,\n",
       "   140,\n",
       "   141,\n",
       "   142,\n",
       "   143,\n",
       "   144,\n",
       "   145,\n",
       "   146,\n",
       "   147,\n",
       "   148,\n",
       "   149,\n",
       "   150,\n",
       "   151,\n",
       "   152,\n",
       "   153,\n",
       "   154,\n",
       "   155,\n",
       "   156,\n",
       "   157,\n",
       "   158,\n",
       "   159,\n",
       "   160,\n",
       "   161,\n",
       "   162,\n",
       "   163,\n",
       "   164,\n",
       "   165,\n",
       "   166,\n",
       "   167,\n",
       "   168,\n",
       "   169,\n",
       "   170,\n",
       "   171,\n",
       "   172,\n",
       "   173,\n",
       "   174,\n",
       "   175,\n",
       "   176,\n",
       "   177,\n",
       "   178,\n",
       "   179,\n",
       "   180,\n",
       "   181,\n",
       "   182,\n",
       "   183,\n",
       "   184,\n",
       "   185,\n",
       "   186,\n",
       "   187,\n",
       "   188,\n",
       "   189,\n",
       "   190,\n",
       "   191,\n",
       "   192,\n",
       "   193,\n",
       "   194,\n",
       "   195,\n",
       "   196,\n",
       "   197,\n",
       "   198,\n",
       "   199,\n",
       "   200,\n",
       "   201,\n",
       "   202,\n",
       "   203,\n",
       "   204,\n",
       "   205,\n",
       "   206,\n",
       "   207,\n",
       "   208,\n",
       "   209,\n",
       "   210,\n",
       "   211,\n",
       "   212,\n",
       "   213,\n",
       "   214,\n",
       "   215,\n",
       "   216,\n",
       "   217,\n",
       "   218,\n",
       "   219,\n",
       "   220,\n",
       "   221,\n",
       "   222,\n",
       "   223,\n",
       "   224,\n",
       "   225,\n",
       "   226,\n",
       "   227,\n",
       "   228,\n",
       "   229,\n",
       "   230,\n",
       "   231,\n",
       "   232,\n",
       "   233,\n",
       "   234,\n",
       "   235,\n",
       "   236,\n",
       "   237,\n",
       "   238,\n",
       "   239,\n",
       "   240,\n",
       "   241,\n",
       "   242,\n",
       "   243,\n",
       "   244,\n",
       "   245,\n",
       "   246,\n",
       "   247,\n",
       "   248,\n",
       "   249,\n",
       "   250,\n",
       "   251,\n",
       "   252,\n",
       "   253,\n",
       "   254,\n",
       "   255,\n",
       "   256,\n",
       "   257,\n",
       "   258,\n",
       "   259,\n",
       "   260,\n",
       "   261,\n",
       "   262,\n",
       "   263,\n",
       "   264,\n",
       "   265,\n",
       "   266,\n",
       "   267,\n",
       "   268,\n",
       "   269,\n",
       "   270,\n",
       "   271,\n",
       "   272,\n",
       "   273,\n",
       "   274,\n",
       "   275,\n",
       "   276,\n",
       "   277,\n",
       "   278,\n",
       "   279,\n",
       "   280,\n",
       "   281,\n",
       "   282,\n",
       "   283,\n",
       "   284,\n",
       "   285,\n",
       "   286,\n",
       "   287,\n",
       "   288,\n",
       "   289,\n",
       "   290,\n",
       "   291,\n",
       "   292,\n",
       "   293,\n",
       "   294,\n",
       "   295,\n",
       "   296,\n",
       "   297,\n",
       "   298,\n",
       "   299,\n",
       "   300,\n",
       "   301,\n",
       "   302,\n",
       "   303,\n",
       "   304,\n",
       "   305,\n",
       "   306,\n",
       "   307,\n",
       "   308,\n",
       "   309,\n",
       "   310,\n",
       "   311,\n",
       "   312,\n",
       "   313,\n",
       "   314,\n",
       "   315,\n",
       "   316,\n",
       "   317,\n",
       "   318,\n",
       "   319,\n",
       "   320,\n",
       "   321,\n",
       "   322,\n",
       "   323,\n",
       "   324,\n",
       "   325,\n",
       "   326,\n",
       "   327,\n",
       "   328,\n",
       "   329,\n",
       "   330,\n",
       "   331,\n",
       "   332,\n",
       "   333,\n",
       "   334,\n",
       "   335,\n",
       "   336,\n",
       "   337,\n",
       "   338,\n",
       "   339,\n",
       "   340,\n",
       "   341,\n",
       "   342,\n",
       "   343,\n",
       "   344,\n",
       "   345,\n",
       "   346,\n",
       "   347,\n",
       "   348,\n",
       "   349,\n",
       "   350,\n",
       "   351,\n",
       "   352,\n",
       "   353,\n",
       "   354,\n",
       "   355,\n",
       "   356,\n",
       "   357,\n",
       "   358,\n",
       "   359,\n",
       "   360,\n",
       "   361,\n",
       "   362,\n",
       "   363,\n",
       "   364,\n",
       "   365,\n",
       "   366,\n",
       "   367,\n",
       "   368,\n",
       "   369,\n",
       "   370,\n",
       "   371,\n",
       "   372,\n",
       "   373,\n",
       "   374,\n",
       "   375,\n",
       "   376,\n",
       "   377,\n",
       "   378,\n",
       "   379,\n",
       "   380,\n",
       "   381,\n",
       "   382,\n",
       "   383,\n",
       "   384,\n",
       "   385,\n",
       "   386,\n",
       "   387,\n",
       "   388,\n",
       "   389,\n",
       "   390,\n",
       "   391,\n",
       "   392,\n",
       "   393,\n",
       "   394,\n",
       "   395,\n",
       "   396,\n",
       "   397,\n",
       "   398,\n",
       "   399,\n",
       "   400,\n",
       "   401,\n",
       "   402,\n",
       "   403,\n",
       "   404,\n",
       "   405,\n",
       "   406,\n",
       "   407,\n",
       "   408,\n",
       "   409,\n",
       "   410,\n",
       "   411,\n",
       "   412,\n",
       "   413,\n",
       "   414,\n",
       "   415,\n",
       "   416,\n",
       "   417,\n",
       "   418,\n",
       "   419,\n",
       "   420,\n",
       "   421,\n",
       "   422,\n",
       "   423,\n",
       "   424,\n",
       "   425,\n",
       "   426,\n",
       "   427,\n",
       "   428,\n",
       "   429,\n",
       "   430,\n",
       "   431,\n",
       "   432,\n",
       "   433,\n",
       "   434,\n",
       "   435,\n",
       "   436,\n",
       "   437,\n",
       "   438,\n",
       "   439,\n",
       "   440,\n",
       "   441,\n",
       "   442,\n",
       "   443,\n",
       "   444,\n",
       "   445,\n",
       "   446,\n",
       "   447,\n",
       "   448,\n",
       "   449,\n",
       "   450,\n",
       "   451,\n",
       "   452,\n",
       "   453,\n",
       "   454,\n",
       "   455,\n",
       "   456,\n",
       "   457,\n",
       "   458,\n",
       "   459,\n",
       "   460,\n",
       "   461,\n",
       "   462,\n",
       "   463,\n",
       "   464,\n",
       "   465,\n",
       "   466,\n",
       "   467,\n",
       "   468,\n",
       "   469,\n",
       "   470,\n",
       "   471,\n",
       "   472,\n",
       "   473,\n",
       "   474,\n",
       "   475,\n",
       "   476,\n",
       "   477,\n",
       "   478,\n",
       "   479,\n",
       "   480,\n",
       "   481,\n",
       "   482,\n",
       "   483,\n",
       "   484,\n",
       "   485,\n",
       "   486,\n",
       "   487,\n",
       "   488,\n",
       "   489,\n",
       "   490,\n",
       "   491,\n",
       "   492,\n",
       "   493,\n",
       "   494,\n",
       "   495,\n",
       "   496,\n",
       "   497,\n",
       "   498,\n",
       "   499,\n",
       "   500,\n",
       "   501,\n",
       "   502,\n",
       "   503,\n",
       "   504,\n",
       "   505,\n",
       "   506,\n",
       "   507,\n",
       "   508,\n",
       "   509,\n",
       "   510]]}"
      ]
     },
     "execution_count": 371,
     "metadata": {},
     "output_type": "execute_result"
    }
   ],
   "source": [
    "tmp[0]"
   ]
  },
  {
   "cell_type": "code",
   "execution_count": null,
   "metadata": {},
   "outputs": [],
   "source": []
  },
  {
   "cell_type": "code",
   "execution_count": null,
   "metadata": {},
   "outputs": [],
   "source": []
  },
  {
   "cell_type": "code",
   "execution_count": null,
   "metadata": {},
   "outputs": [],
   "source": []
  },
  {
   "cell_type": "code",
   "execution_count": 2,
   "metadata": {
    "ExecuteTime": {
     "end_time": "2018-06-18T06:51:19.841019Z",
     "start_time": "2018-06-18T06:51:19.210644Z"
    }
   },
   "outputs": [],
   "source": [
    "# imports\n",
    "import numpy as np                     # numeric python lib\n",
    "\n",
    "import matplotlib.image as mpimg       # reading images to numpy arrays\n",
    "import matplotlib.pyplot as plt        # to plot any graph\n",
    "import matplotlib.patches as mpatches  # to draw a circle at the mean contour\n",
    "\n",
    "from skimage import measure            # to find shape contour\n",
    "import scipy.ndimage as ndi            # to determine shape centrality\n",
    "from math import floor\n",
    "\n",
    "\n",
    "# matplotlib setup\n",
    "%matplotlib inline\n",
    "from pylab import rcParams\n",
    "rcParams['figure.figsize'] = (6, 6)      # setting default size of plots"
   ]
  },
  {
   "cell_type": "code",
   "execution_count": 308,
   "metadata": {
    "ExecuteTime": {
     "end_time": "2018-06-19T05:16:23.359518Z",
     "start_time": "2018-06-19T05:16:23.287410Z"
    }
   },
   "outputs": [],
   "source": [
    "import random\n",
    "\n",
    "def plot_a_contour(tmp_contour):\n",
    "    plt.scatter(tmp_contour[:,1],tmp_contour[:,0],1)\n",
    "    return\n",
    "\n",
    "def plot_a_contour_from_ID(ID,contours):\n",
    "    tmp_contour = a_ID_to_a_contour(ID,contours)\n",
    "    plot_a_contour(tmp_contour)\n",
    "    return\n",
    "\n",
    "\n",
    "def cart2pol(x, y):\n",
    "    rho = np.sqrt(x**2 + y**2)\n",
    "    phi = np.arctan2(y, x)\n",
    "    return [rho, phi]\n",
    "\n",
    "def pick_up_the_contour_in_a_special_scale(index_num,scale=200,plotit=''):\n",
    "    \"\"\"从一张图的边界点中取出一定规模的点\"\"\"\n",
    "    img = mpimg.imread('../rawdata/images/' + str(index_num) + '.jpg')\n",
    "    # 找质心\n",
    "    cy, cx = ndi.center_of_mass(img)\n",
    "    # 找轮廓\n",
    "    contours = measure.find_contours(img, .8)\n",
    "    # from which we choose the longest one\n",
    "    contour = max(contours, key=len)\n",
    "\n",
    "    contour[::,1] -= cx  # demean X\n",
    "    contour[::,0] -= cy  # demean Y\n",
    "\n",
    "    # just calling the transformation on all pairs in the set\n",
    "    polar_contour = np.array([cart2pol(x, y) for x, y in contour])\n",
    "\n",
    "    # 确定取点间隔\n",
    "    interval = int(floor(len(polar_contour) / scale))\n",
    "    tmp_contour = polar_contour[::interval]\n",
    "#     out_polar_contour = random.sample(tmp_contour,scale)\n",
    "    random_index = np.sort(random.sample(range(len(tmp_contour)),scale))\n",
    "    out_polar_contour = tmp_contour[random_index]\n",
    "    assert len(out_polar_contour) == scale, '还有点没删干净'\n",
    "\n",
    "    if plotit == 'rho':\n",
    "        plt.scatter(range(scale),out_polar_contour[:,0],1)\n",
    "    if plotit == 'phi':\n",
    "        plt.scatter(range(scale),out_polar_contour[:,1],1)\n",
    "        \n",
    "#     return out_polar_contour\n",
    "    return np.array(out_polar_contour)"
   ]
  },
  {
   "cell_type": "code",
   "execution_count": 295,
   "metadata": {
    "ExecuteTime": {
     "end_time": "2018-06-19T05:12:26.982547Z",
     "start_time": "2018-06-19T05:12:26.948708Z"
    }
   },
   "outputs": [],
   "source": [
    "from sklearn.preprocessing import StandardScaler\n",
    "\n",
    "def ID_list_to_contours(ID_list,scale=200,save_path=''):\n",
    "    \"\"\"将一个ID_list转化为一个标准化后的contours_array\"\"\"\n",
    "    contours_list = []\n",
    "    for id_index in ID_list:\n",
    "        contours_list.append(pick_up_the_contour_in_a_special_scale(index_num=id_index+1, scale=scale, plotit=''))\n",
    "        \n",
    "    contours_array = np.array(contours_list)\n",
    "    \n",
    "    reshaped_tmp = contours_array.reshape((-1,2))\n",
    "    transformer = StandardScaler().fit(reshaped_tmp)\n",
    "    contours_array_standerdscalered = transformer.transform(reshaped_tmp).reshape((len(ID_list),scale,2))\n",
    "    \n",
    "    # 保存\n",
    "    if save_path:\n",
    "        np.save(save_path, contours_array_standerdscalered)\n",
    "    return contours_array_standerdscalered, transformer\n",
    "\n",
    "def a_ID_to_a_contour(ID,contours):\n",
    "    return contours[ID-1]"
   ]
  },
  {
   "cell_type": "code",
   "execution_count": 309,
   "metadata": {
    "ExecuteTime": {
     "end_time": "2018-06-19T05:16:35.694755Z",
     "start_time": "2018-06-19T05:16:27.683013Z"
    }
   },
   "outputs": [],
   "source": [
    "tmp, transformer = ID_list_to_contours(range(100),scale=200,save_path='../middata/contours_array.npy')"
   ]
  },
  {
   "cell_type": "code",
   "execution_count": 298,
   "metadata": {
    "ExecuteTime": {
     "end_time": "2018-06-19T05:13:38.041791Z",
     "start_time": "2018-06-19T05:13:37.729969Z"
    }
   },
   "outputs": [
    {
     "data": {
      "image/png": "[encoded data removed]",
      "text/plain": [
       "<Figure size 432x288 with 1 Axes>"
      ]
     },
     "metadata": {},
     "output_type": "display_data"
    }
   ],
   "source": [
    "plot_a_contour(tmp[0])"
   ]
  },
  {
   "cell_type": "code",
   "execution_count": 246,
   "metadata": {
    "ExecuteTime": {
     "end_time": "2018-06-19T03:35:14.654776Z",
     "start_time": "2018-06-19T03:35:14.644743Z"
    }
   },
   "outputs": [],
   "source": [
    "tmp_1 = load_contours([5],'../middata/contours_array.npy')"
   ]
  },
  {
   "cell_type": "code",
   "execution_count": 165,
   "metadata": {
    "ExecuteTime": {
     "end_time": "2018-06-18T15:01:41.318347Z",
     "start_time": "2018-06-18T15:01:41.308215Z"
    }
   },
   "outputs": [
    {
     "name": "stdout",
     "output_type": "stream",
     "text": [
      "[155  -8  57  55 100  44  48  -2 108 147]\n"
     ]
    }
   ],
   "source": [
    "num = 10\n",
    "flip_degree = np.array(np.random.randint(low=0, high=4,size=(num))) * 90  # 上下翻转，左右翻转, 即数据增强的翻转方向\n",
    "rotation_degree = np.random.randn(num) * 10\n",
    "flip_and_rotation_degree = flip_degree + rotation_degree  # 需要旋转的角度\n",
    "translation_distance = ((flip_and_rotation_degree / 360) * scale).astype(int)  # 需要平移的单位个数\n",
    "\n",
    "print translation_distance"
   ]
  },
  {
   "cell_type": "code",
   "execution_count": 182,
   "metadata": {
    "ExecuteTime": {
     "end_time": "2018-06-18T15:37:11.792085Z",
     "start_time": "2018-06-18T15:37:11.776954Z"
    }
   },
   "outputs": [],
   "source": [
    "def contours_data_augmenter(ID, rotation_degree_ratio=10, larger_or_smaller_ratio=0.05):\n",
    "    \"\"\"\n",
    "    ID: 是需要加强的一组数据，此处仅仅为了得到需要生成加强因子的规模\n",
    "    rotation_degree_ratio: 随机旋转的角度，这里和外部保持一致，为10度\n",
    "    larger_or_smaller_ratio: 随机增大减小的比例，这里默认取5%\n",
    "    \"\"\"\n",
    "    length = len(ID)\n",
    "    \n",
    "    # 平移\n",
    "    flip_degree = np.array(np.random.randint(low=0, high=4,size=(length))) * 90  # 上下翻转，左右翻转, 即数据增强的翻转方向\n",
    "    rotation_degree = np.random.randn(length) * rotation_degree_ratio\n",
    "    flip_and_rotation_degree = flip_degree + rotation_degree  # 需要旋转的角度\n",
    "    translation_distance = ((flip_and_rotation_degree / 360) * scale).astype(int)  # 需要平移的单位个数\n",
    "\n",
    "    # 扩大缩小\n",
    "    random_larger_or_smaller = 1 + np.random.randn(length) * larger_or_smaller_ratio\n",
    "    return translation_distance, random_larger_or_smaller"
   ]
  },
  {
   "cell_type": "code",
   "execution_count": 312,
   "metadata": {
    "ExecuteTime": {
     "end_time": "2018-06-19T05:16:55.219657Z",
     "start_time": "2018-06-19T05:16:55.210406Z"
    }
   },
   "outputs": [],
   "source": [
    "translation_distance, random_larger_or_smaller = contours_data_augmenter(range(10))"
   ]
  },
  {
   "cell_type": "code",
   "execution_count": 300,
   "metadata": {
    "ExecuteTime": {
     "end_time": "2018-06-19T05:14:25.012472Z",
     "start_time": "2018-06-19T05:14:24.997533Z"
    }
   },
   "outputs": [
    {
     "data": {
      "text/plain": [
       "array([153,  86,   2,  96,  -6,   7,  -6,  45, -16,  -6])"
      ]
     },
     "execution_count": 300,
     "metadata": {},
     "output_type": "execute_result"
    }
   ],
   "source": [
    "translation_distance"
   ]
  },
  {
   "cell_type": "code",
   "execution_count": 310,
   "metadata": {
    "ExecuteTime": {
     "end_time": "2018-06-19T05:16:47.879496Z",
     "start_time": "2018-06-19T05:16:47.312187Z"
    }
   },
   "outputs": [
    {
     "data": {
      "image/png": "[encoded data removed]",
      "text/plain": [
       "<Figure size 432x288 with 1 Axes>"
      ]
     },
     "metadata": {},
     "output_type": "display_data"
    }
   ],
   "source": [
    "plot_a_contour(tmp_contours)"
   ]
  },
  {
   "cell_type": "code",
   "execution_count": 261,
   "metadata": {
    "ExecuteTime": {
     "end_time": "2018-06-19T04:59:31.491685Z",
     "start_time": "2018-06-19T04:59:31.478564Z"
    }
   },
   "outputs": [
    {
     "data": {
      "text/plain": [
       "[2, 3, 4, 0, 1]"
      ]
     },
     "execution_count": 261,
     "metadata": {},
     "output_type": "execute_result"
    }
   ],
   "source": [
    "tmp_5 = [0,1,2,3,4]\n",
    "tmp_5[-3:] + tmp_5[:-3]"
   ]
  },
  {
   "cell_type": "code",
   "execution_count": 311,
   "metadata": {
    "ExecuteTime": {
     "end_time": "2018-06-19T05:16:50.013709Z",
     "start_time": "2018-06-19T05:16:49.706477Z"
    }
   },
   "outputs": [
    {
     "data": {
      "text/plain": [
       "<matplotlib.collections.PathCollection at 0x7f8e1168f110>"
      ]
     },
     "execution_count": 311,
     "metadata": {},
     "output_type": "execute_result"
    },
    {
     "data": {
      "image/png": "[encoded data removed]",
      "text/plain": [
       "<Figure size 432x288 with 1 Axes>"
      ]
     },
     "metadata": {},
     "output_type": "display_data"
    }
   ],
   "source": [
    "plt.scatter(tmp_contours[:,0],range(len(tmp_contours[:,0])))"
   ]
  },
  {
   "cell_type": "code",
   "execution_count": 268,
   "metadata": {
    "ExecuteTime": {
     "end_time": "2018-06-19T05:02:55.563521Z",
     "start_time": "2018-06-19T05:02:54.912106Z"
    }
   },
   "outputs": [
    {
     "data": {
      "text/plain": [
       "<matplotlib.collections.PathCollection at 0x7f8e11a81310>"
      ]
     },
     "execution_count": 268,
     "metadata": {},
     "output_type": "execute_result"
    },
    {
     "data": {
      "image/png": "[encoded data removed]",
      "text/plain": [
       "<Figure size 432x288 with 1 Axes>"
      ]
     },
     "metadata": {},
     "output_type": "display_data"
    }
   ],
   "source": [
    "num = 50\n",
    "tmp_contours_2 = tmp_contours.tolist()\n",
    "tmp_contours_3 = tmp_contours_2[-num:] + tmp_contours_2[:-num]\n",
    "tmp_q = np.array(tmp_contours_3)\n",
    "plt.scatter(tmp_q[:,0],range(len(tmp_q[:,0])))"
   ]
  },
  {
   "cell_type": "code",
   "execution_count": 239,
   "metadata": {
    "ExecuteTime": {
     "end_time": "2018-06-19T03:33:16.793584Z",
     "start_time": "2018-06-19T03:33:16.775741Z"
    }
   },
   "outputs": [],
   "source": [
    "def load_contours(ID, contours_array_path):\n",
    "    \"\"\"通过ID数据将contour数据从contours_array中取出,并将序列随机平移、扩大缩小、对称\"\"\"\n",
    "    contours_array = np.load(contours_array_path)\n",
    "    translation_distance, random_larger_or_smaller = contours_data_augmenter(ID)\n",
    "    # 对数据逐个进行随机增强\n",
    "    contours = []\n",
    "    for id_, trans_dis, rand_larger in zip(ID, translation_distance, random_larger_or_smaller):\n",
    "        tmp_contours = contours_array[id_ - 1].tolist()  # 取出相应的原始contours数据\n",
    "        tmp_contours = np.array(tmp_contours[-trans_dis:] + tmp_contours[:-trans_dis])  # 平移\n",
    "        tmp_contours = tmp_contours * rand_larger\n",
    "        contours.append(tmp_contours)\n",
    "    \n",
    "    return np.array(contours)"
   ]
  },
  {
   "cell_type": "code",
   "execution_count": 344,
   "metadata": {
    "ExecuteTime": {
     "end_time": "2018-06-19T05:30:09.651486Z",
     "start_time": "2018-06-19T05:30:09.628969Z"
    }
   },
   "outputs": [],
   "source": [
    "ID = np.arange(10) + 1\n",
    "contours_array = np.load('../middata/contours_array.npy')\n",
    "translation_distance, random_larger_or_smaller = contours_data_augmenter(ID)\n",
    "# 对数据逐个进行随机增强\n",
    "contours = []\n",
    "for id_, trans_dis, rand_larger in zip(ID, translation_distance, random_larger_or_smaller):\n",
    "    tmp_contours = contours_array[id_ - 1].tolist()  # 取出相应的原始contours数据\n",
    "    tmp_contours = np.array(tmp_contours[-trans_dis:] + tmp_contours[:-trans_dis])  # 平移\n",
    "    tmp_contours = tmp_contours * rand_larger\n",
    "    contours.append(tmp_contours)"
   ]
  },
  {
   "cell_type": "code",
   "execution_count": 332,
   "metadata": {
    "ExecuteTime": {
     "end_time": "2018-06-19T05:28:26.662142Z",
     "start_time": "2018-06-19T05:28:26.647709Z"
    }
   },
   "outputs": [
    {
     "data": {
      "text/plain": [
       "3"
      ]
     },
     "execution_count": 332,
     "metadata": {},
     "output_type": "execute_result"
    }
   ],
   "source": [
    "trans_dis"
   ]
  },
  {
   "cell_type": "code",
   "execution_count": 345,
   "metadata": {
    "ExecuteTime": {
     "end_time": "2018-06-19T05:30:11.259486Z",
     "start_time": "2018-06-19T05:30:10.965493Z"
    }
   },
   "outputs": [
    {
     "data": {
      "text/plain": [
       "<matplotlib.collections.PathCollection at 0x7f8e110d12d0>"
      ]
     },
     "execution_count": 345,
     "metadata": {},
     "output_type": "execute_result"
    },
    {
     "data": {
      "image/png": "[encoded data removed]",
      "text/plain": [
       "<Figure size 432x288 with 1 Axes>"
      ]
     },
     "metadata": {},
     "output_type": "display_data"
    }
   ],
   "source": [
    "plt.scatter(range(len(contours_array[0,:,1])),contours_array[0,:,0],1)"
   ]
  },
  {
   "cell_type": "code",
   "execution_count": 346,
   "metadata": {
    "ExecuteTime": {
     "end_time": "2018-06-19T05:30:13.939896Z",
     "start_time": "2018-06-19T05:30:13.929854Z"
    }
   },
   "outputs": [],
   "source": [
    "contours = np.array(contours)"
   ]
  },
  {
   "cell_type": "code",
   "execution_count": 347,
   "metadata": {
    "ExecuteTime": {
     "end_time": "2018-06-19T05:30:15.075498Z",
     "start_time": "2018-06-19T05:30:14.693185Z"
    }
   },
   "outputs": [
    {
     "data": {
      "text/plain": [
       "<matplotlib.collections.PathCollection at 0x7f8e1104c950>"
      ]
     },
     "execution_count": 347,
     "metadata": {},
     "output_type": "execute_result"
    },
    {
     "data": {
      "image/png": "[encoded data removed]",
      "text/plain": [
       "<Figure size 432x288 with 1 Axes>"
      ]
     },
     "metadata": {},
     "output_type": "display_data"
    }
   ],
   "source": [
    "plt.scatter(range(len(contours[0,:,1])),contours[0,:,0],1)"
   ]
  },
  {
   "cell_type": "code",
   "execution_count": 349,
   "metadata": {
    "ExecuteTime": {
     "end_time": "2018-06-19T05:41:49.439213Z",
     "start_time": "2018-06-19T05:41:49.431383Z"
    }
   },
   "outputs": [
    {
     "data": {
      "text/plain": [
       "True"
      ]
     },
     "execution_count": 349,
     "metadata": {},
     "output_type": "execute_result"
    }
   ],
   "source": [
    "type('') == str"
   ]
  },
  {
   "cell_type": "code",
   "execution_count": null,
   "metadata": {},
   "outputs": [],
   "source": [
    "rand"
   ]
  },
  {
   "cell_type": "code",
   "execution_count": null,
   "metadata": {},
   "outputs": [],
   "source": []
  },
  {
   "cell_type": "code",
   "execution_count": null,
   "metadata": {},
   "outputs": [],
   "source": []
  },
  {
   "cell_type": "code",
   "execution_count": 313,
   "metadata": {
    "ExecuteTime": {
     "end_time": "2018-06-19T05:17:49.980338Z",
     "start_time": "2018-06-19T05:17:49.968991Z"
    }
   },
   "outputs": [],
   "source": [
    "tmp_1 = load_contours(range(10), '../middata/contours_array.npy')"
   ]
  },
  {
   "cell_type": "code",
   "execution_count": 315,
   "metadata": {
    "ExecuteTime": {
     "end_time": "2018-06-19T05:19:57.005875Z",
     "start_time": "2018-06-19T05:19:56.452870Z"
    }
   },
   "outputs": [
    {
     "data": {
      "text/plain": [
       "<matplotlib.collections.PathCollection at 0x7f8e116f9a90>"
      ]
     },
     "execution_count": 315,
     "metadata": {},
     "output_type": "execute_result"
    },
    {
     "data": {
      "image/png": "[encoded data removed]",
      "text/plain": [
       "<Figure size 432x288 with 1 Axes>"
      ]
     },
     "metadata": {},
     "output_type": "display_data"
    }
   ],
   "source": [
    "plt.scatter(range(len(tmp[0,:,1])),tmp[0,:,0],1)"
   ]
  },
  {
   "cell_type": "code",
   "execution_count": 317,
   "metadata": {
    "ExecuteTime": {
     "end_time": "2018-06-19T05:21:01.372662Z",
     "start_time": "2018-06-19T05:21:01.021695Z"
    }
   },
   "outputs": [
    {
     "data": {
      "text/plain": [
       "<matplotlib.collections.PathCollection at 0x7f8e11696d90>"
      ]
     },
     "execution_count": 317,
     "metadata": {},
     "output_type": "execute_result"
    },
    {
     "data": {
      "image/png": "[encoded data removed]",
      "text/plain": [
       "<Figure size 432x288 with 1 Axes>"
      ]
     },
     "metadata": {},
     "output_type": "display_data"
    }
   ],
   "source": [
    "plt.scatter(range(len(tmp_1[1,:,1])),tmp_1[0,:,0],1)"
   ]
  },
  {
   "cell_type": "code",
   "execution_count": null,
   "metadata": {},
   "outputs": [],
   "source": []
  },
  {
   "cell_type": "code",
   "execution_count": 202,
   "metadata": {
    "ExecuteTime": {
     "end_time": "2018-06-18T15:46:28.342142Z",
     "start_time": "2018-06-18T15:46:28.335142Z"
    }
   },
   "outputs": [],
   "source": [
    "contours_array = np.load('../middata/contours_array.npy')"
   ]
  },
  {
   "cell_type": "code",
   "execution_count": 203,
   "metadata": {
    "ExecuteTime": {
     "end_time": "2018-06-18T15:46:46.438275Z",
     "start_time": "2018-06-18T15:46:46.219465Z"
    }
   },
   "outputs": [
    {
     "data": {
      "text/plain": [
       "<matplotlib.collections.PathCollection at 0x7f8e12aa5f90>"
      ]
     },
     "execution_count": 203,
     "metadata": {},
     "output_type": "execute_result"
    },
    {
     "data": {
      "image/png": "[encoded data removed]",
      "text/plain": [
       "<Figure size 432x288 with 1 Axes>"
      ]
     },
     "metadata": {},
     "output_type": "display_data"
    }
   ],
   "source": [
    "plt.scatter(contours_array[0,:,0],contours_array[0,:,1],1)"
   ]
  },
  {
   "cell_type": "code",
   "execution_count": 201,
   "metadata": {
    "ExecuteTime": {
     "end_time": "2018-06-18T15:45:38.826387Z",
     "start_time": "2018-06-18T15:45:38.616846Z"
    }
   },
   "outputs": [
    {
     "data": {
      "text/plain": [
       "<matplotlib.collections.PathCollection at 0x7f8e12e3d250>"
      ]
     },
     "execution_count": 201,
     "metadata": {},
     "output_type": "execute_result"
    },
    {
     "data": {
      "image/png": "[encoded data removed]",
      "text/plain": [
       "<Figure size 432x288 with 1 Axes>"
      ]
     },
     "metadata": {},
     "output_type": "display_data"
    }
   ],
   "source": [
    "plt.scatter(tmp[0,:,0],tmp[0,:,1],1)"
   ]
  },
  {
   "cell_type": "code",
   "execution_count": 205,
   "metadata": {
    "ExecuteTime": {
     "end_time": "2018-06-18T15:48:05.015632Z",
     "start_time": "2018-06-18T15:48:04.992670Z"
    },
    "collapsed": true
   },
   "outputs": [
    {
     "data": {
      "text/plain": [
       "array([[-0.79132136,  1.07989437],\n",
       "       [-1.38671832, -0.01775323],\n",
       "       [-0.89650446, -0.51159779],\n",
       "       [-0.86080422,  1.09946431],\n",
       "       [-0.77646455,  1.06123912],\n",
       "       [-1.34301222,  0.16395091],\n",
       "       [-1.36023849,  1.47848708],\n",
       "       [-0.83888779, -0.52506392],\n",
       "       [-1.39905073, -0.1508852 ],\n",
       "       [ 0.33658525,  0.84352323],\n",
       "       [-1.2833973 , -1.36495827],\n",
       "       [ 0.29358538,  0.67129605],\n",
       "       [ 0.45738104,  0.79607185],\n",
       "       [-1.04584935,  0.36938442],\n",
       "       [-0.40192477,  0.97174013],\n",
       "       [-1.29149105,  0.22244613],\n",
       "       [-0.65981473, -0.58766963],\n",
       "       [ 0.06483913, -0.97487406],\n",
       "       [ 0.57064383, -0.81572106],\n",
       "       [-1.18053058,  1.23338458],\n",
       "       [-0.28174563,  0.96135599],\n",
       "       [-0.13123048,  0.94274522],\n",
       "       [ 0.59987132, -0.90936588],\n",
       "       [ 0.42349001, -0.93567146],\n",
       "       [-0.12663705, -0.70316907],\n",
       "       [ 0.59316806,  0.74688455],\n",
       "       [-0.81086723, -1.1308042 ],\n",
       "       [-0.39461618, -0.64047801],\n",
       "       [-0.60263367, -0.59239685],\n",
       "       [-0.58171887,  0.49896741],\n",
       "       [-1.24280636, -0.33987646],\n",
       "       [-0.49822414, -0.62424584],\n",
       "       [ 0.39234908,  0.83518096],\n",
       "       [ 0.14123922,  0.89497419],\n",
       "       [-0.98153508, -0.47920896],\n",
       "       [-0.64925917, -1.08220947],\n",
       "       [-0.31909727,  0.97261882],\n",
       "       [ 0.02467093,  0.91970062],\n",
       "       [-0.86854422,  0.43059711],\n",
       "       [-1.35654648, -1.44795679],\n",
       "       [-0.75582399, -0.54996474],\n",
       "       [-1.1052843 , -1.2449233 ],\n",
       "       [-1.08369205, -0.42781432],\n",
       "       [ 0.2526224 , -0.95739918],\n",
       "       [ 0.12913875, -0.97007002],\n",
       "       [ 0.40831283,  0.81429265],\n",
       "       [-0.54835511, -1.06398688],\n",
       "       [ 0.33069534,  0.68134039],\n",
       "       [ 0.13500415,  0.88669729],\n",
       "       [ 0.56652817,  0.78374106],\n",
       "       [ 0.73042027, -0.882538  ],\n",
       "       [-1.39044583,  1.59868998],\n",
       "       [-0.94614942,  1.13086356],\n",
       "       [ 0.68866088, -0.89056306],\n",
       "       [-1.24403606,  0.25017247],\n",
       "       [ 0.02933779, -0.73248491],\n",
       "       [-0.20435354, -0.67914128],\n",
       "       [ 0.36550822, -0.94461084],\n",
       "       [-1.20016992, -1.30313666],\n",
       "       [ 0.52156584, -0.80870463],\n",
       "       [-1.24146384,  1.32034503],\n",
       "       [-1.35555005,  1.44979528],\n",
       "       [-1.39461013,  1.51533688],\n",
       "       [-0.30204784,  0.56005881],\n",
       "       [-0.70454765, -0.5665045 ],\n",
       "       [-0.70928642,  0.48116789],\n",
       "       [ 0.34846905, -0.78586993],\n",
       "       [-1.10443933,  0.3519312 ],\n",
       "       [ 0.46328596, -0.80141871],\n",
       "       [-1.40074323, -0.05987768],\n",
       "       [-0.8373583 ,  0.45018979],\n",
       "       [-1.30198687, -0.28625065],\n",
       "       [-0.02240679, -0.72169274],\n",
       "       [ 0.6897482 , -0.82888504],\n",
       "       [-1.31917121,  1.41029028],\n",
       "       [-1.33816583,  0.13418115],\n",
       "       [-0.55501796,  1.00625345],\n",
       "       [ 0.40557435, -0.79381315],\n",
       "       [ 0.1940941 , -0.95905577],\n",
       "       [-1.28183597,  1.34323852],\n",
       "       [ 0.42906277,  0.82545375],\n",
       "       [ 0.18975792,  0.88076258],\n",
       "       [-0.22161687, -1.01630075],\n",
       "       [-0.25776178, -0.67048026],\n",
       "       [-0.10546644, -1.00411898],\n",
       "       [ 0.00518919,  0.90935128],\n",
       "       [-0.3036921 ,  0.9685619 ],\n",
       "       [-0.30015611, -0.66481938],\n",
       "       [ 0.19085978, -0.75999197],\n",
       "       [-0.95786166,  1.14404107],\n",
       "       [-0.16126986,  0.59398893],\n",
       "       [ 0.63993886, -0.90082368],\n",
       "       [-1.18905686,  0.27936584],\n",
       "       [ 0.74888698, -0.83174183],\n",
       "       [-1.2002784 , -0.37306509],\n",
       "       [-1.27767646, -0.31539297],\n",
       "       [-0.28499976,  0.57383428],\n",
       "       [-1.0259895 ,  1.16654746],\n",
       "       [ 0.42773781,  0.8011719 ],\n",
       "       [-0.75321244, -1.11216463],\n",
       "       [-1.15611956, -1.26629844],\n",
       "       [-1.40252696,  1.54462541],\n",
       "       [-1.12594302, -0.41614115],\n",
       "       [ 0.2362448 , -0.76889408],\n",
       "       [ 0.42662408,  0.7108614 ],\n",
       "       [ 0.2423683 ,  0.87110789],\n",
       "       [ 0.30018441, -0.94831851],\n",
       "       [ 0.55122623, -0.91853322],\n",
       "       [-1.36062497,  0.06813991],\n",
       "       [ 0.02501534,  0.61966101],\n",
       "       [ 0.51680394,  0.7887319 ],\n",
       "       [-1.32689658, -0.26312712],\n",
       "       [-0.45720656,  0.54917526],\n",
       "       [-0.03496515,  0.92974051],\n",
       "       [-0.57649704,  0.50730513],\n",
       "       [-0.4109332 , -1.04285726],\n",
       "       [-1.02962844, -0.45878139],\n",
       "       [ 0.47045056, -0.9333541 ],\n",
       "       [-0.47725243,  0.99404265],\n",
       "       [-0.08329585,  0.60970584],\n",
       "       [ 0.7822951 , -0.84300946],\n",
       "       [ 0.48818644,  0.71865281],\n",
       "       [-0.27084998, -1.0247092 ],\n",
       "       [-1.00629579,  0.38198196],\n",
       "       [-0.21087235,  0.58028013],\n",
       "       [-1.17670822,  0.29789836],\n",
       "       [-1.30360301,  1.36681058],\n",
       "       [-0.34507018, -0.65043515],\n",
       "       [ 0.15779029,  0.64594101],\n",
       "       [-0.04394876, -0.99093784],\n",
       "       [-1.28903576,  0.19898135],\n",
       "       [-0.07312522, -0.71038979],\n",
       "       [-0.55124038, -0.60881402],\n",
       "       [-0.7128695 ,  0.48837598],\n",
       "       [-0.93256992, -1.16707949],\n",
       "       [-0.4493006 , -0.62642105],\n",
       "       [-0.76494945,  0.46237438],\n",
       "       [-0.4716485 ,  0.53384673],\n",
       "       [-0.37973147,  0.55484417],\n",
       "       [-0.87096219, -1.14302995],\n",
       "       [-1.16695694, -0.38382015],\n",
       "       [-0.65509615,  1.03334557],\n",
       "       [ 0.05867965,  0.9025324 ],\n",
       "       [-0.45398911,  0.97965517],\n",
       "       [-1.24933596,  1.29944891],\n",
       "       [ 0.09098121,  0.6297943 ],\n",
       "       [-1.38920653, -0.18630221],\n",
       "       [-0.69659433, -1.09940545],\n",
       "       [-0.71629456,  1.05040286],\n",
       "       [-0.79459717, -0.54643628],\n",
       "       [ 0.62029161, -0.82250584],\n",
       "       [-1.38100639, -1.53297369],\n",
       "       [ 0.13563572, -0.75263601],\n",
       "       [ 0.76064927, -0.87167843],\n",
       "       [ 0.64871125,  0.77060336],\n",
       "       [-0.12818527,  0.60524727],\n",
       "       [-0.4800161 , -1.05300926],\n",
       "       [ 0.62839644,  0.75638121],\n",
       "       [-0.17194815, -1.00828699],\n",
       "       [ 0.25721174,  0.86269293],\n",
       "       [-1.18904284,  1.26722084],\n",
       "       [-1.12661851,  1.20693129],\n",
       "       [ 0.00461606, -0.98246293],\n",
       "       [ 0.51771052, -0.92365539],\n",
       "       [-0.20437397,  0.94009649],\n",
       "       [-0.89062153,  1.11565532],\n",
       "       [-0.2247947 ,  0.94917907],\n",
       "       [ 0.11481952,  0.64062794],\n",
       "       [ 0.08203989, -0.74279123],\n",
       "       [-0.92448154,  0.42094032],\n",
       "       [ 0.53771096,  0.72935043],\n",
       "       [ 0.5403317 ,  0.73848437],\n",
       "       [-1.38793872, -0.10647114],\n",
       "       [-1.38662327,  0.02318689],\n",
       "       [-1.01902845, -1.20471476],\n",
       "       [ 0.29747946,  0.66130139],\n",
       "       [-0.64451288,  1.01802703],\n",
       "       [-0.94215242, -0.4905928 ],\n",
       "       [-0.51948523,  0.51851244],\n",
       "       [-0.94569337,  0.40214093],\n",
       "       [-1.24835419, -1.32239468],\n",
       "       [ 0.43819589,  0.69989188],\n",
       "       [-1.11676002,  0.32284647],\n",
       "       [-1.35869434, -1.49460258],\n",
       "       [-0.16563091, -0.69090397],\n",
       "       [-0.34571297, -1.03695862],\n",
       "       [-1.39828878, -1.57315695],\n",
       "       [-1.38167013,  0.09924343],\n",
       "       [-0.96914054, -1.17981846],\n",
       "       [-1.06701244, -1.21359848],\n",
       "       [-1.33441678, -1.39903493],\n",
       "       [-1.08365479,  1.18268708],\n",
       "       [ 0.6267639 ,  0.77728706],\n",
       "       [-0.02742749,  0.61496456],\n",
       "       [ 0.79111503, -0.85941137],\n",
       "       [-0.11036379,  0.93413959],\n",
       "       [-0.60597854, -1.08115449],\n",
       "       [ 0.23171664,  0.65095274],\n",
       "       [ 0.29201109, -0.77757022],\n",
       "       [-0.64218799,  0.4931426 ]])"
      ]
     },
     "execution_count": 205,
     "metadata": {},
     "output_type": "execute_result"
    }
   ],
   "source": [
    "tmp[0]"
   ]
  },
  {
   "cell_type": "code",
   "execution_count": 206,
   "metadata": {
    "ExecuteTime": {
     "end_time": "2018-06-18T15:48:14.028824Z",
     "start_time": "2018-06-18T15:48:13.809102Z"
    }
   },
   "outputs": [
    {
     "data": {
      "text/plain": [
       "<matplotlib.collections.PathCollection at 0x7f8e11b9cc10>"
      ]
     },
     "execution_count": 206,
     "metadata": {},
     "output_type": "execute_result"
    },
    {
     "data": {
      "image/png": "[encoded data removed]",
      "text/plain": [
       "<Figure size 432x288 with 1 Axes>"
      ]
     },
     "metadata": {},
     "output_type": "display_data"
    }
   ],
   "source": [
    "plt.scatter(tmp[0,:,0],tmp[0,:,1],1)"
   ]
  },
  {
   "cell_type": "code",
   "execution_count": 350,
   "metadata": {
    "ExecuteTime": {
     "end_time": "2018-06-20T12:45:51.505754Z",
     "start_time": "2018-06-20T12:45:50.003319Z"
    }
   },
   "outputs": [],
   "source": [
    "import pandas as pd\n",
    "train_set = pd.read_csv('../rawdata/train.csv')"
   ]
  },
  {
   "cell_type": "code",
   "execution_count": 354,
   "metadata": {
    "ExecuteTime": {
     "end_time": "2018-06-20T12:46:55.959812Z",
     "start_time": "2018-06-20T12:46:55.944510Z"
    }
   },
   "outputs": [],
   "source": [
    "tmp = train_set.iloc[0].tolist()[2:]"
   ]
  },
  {
   "cell_type": "code",
   "execution_count": 360,
   "metadata": {
    "ExecuteTime": {
     "end_time": "2018-06-20T12:48:11.691434Z",
     "start_time": "2018-06-20T12:48:11.277235Z"
    }
   },
   "outputs": [
    {
     "data": {
      "text/plain": [
       "[<matplotlib.lines.Line2D at 0x7f8e0c42b850>]"
      ]
     },
     "execution_count": 360,
     "metadata": {},
     "output_type": "execute_result"
    },
    {
     "data": {
      "image/png": "[encoded data removed]",
      "text/plain": [
       "<Figure size 432x288 with 1 Axes>"
      ]
     },
     "metadata": {},
     "output_type": "display_data"
    }
   ],
   "source": [
    "plt.plot(tmp[128:])"
   ]
  }
 ],
 "metadata": {
  "kernelspec": {
   "display_name": "Python 2",
   "language": "python",
   "name": "python2"
  },
  "language_info": {
   "codemirror_mode": {
    "name": "ipython",
    "version": 2
   },
   "file_extension": ".py",
   "mimetype": "text/x-python",
   "name": "python",
   "nbconvert_exporter": "python",
   "pygments_lexer": "ipython2",
   "version": "2.7.12"
  },
  "nbTranslate": {
   "displayLangs": [
    "*"
   ],
   "hotkey": "alt-t",
   "langInMainMenu": true,
   "sourceLang": "en",
   "targetLang": "fr",
   "useGoogleTranslate": true
  },
  "toc": {
   "nav_menu": {},
   "number_sections": true,
   "sideBar": true,
   "skip_h1_title": false,
   "title_cell": "Table of Contents",
   "title_sidebar": "Contents",
   "toc_cell": false,
   "toc_position": {},
   "toc_section_display": true,
   "toc_window_display": false
  },
  "varInspector": {
   "cols": {
    "lenName": 16,
    "lenType": 16,
    "lenVar": 40
   },
   "kernels_config": {
    "python": {
     "delete_cmd_postfix": "",
     "delete_cmd_prefix": "del ",
     "library": "var_list.py",
     "varRefreshCmd": "print(var_dic_list())"
    },
    "r": {
     "delete_cmd_postfix": ") ",
     "delete_cmd_prefix": "rm(",
     "library": "var_list.r",
     "varRefreshCmd": "cat(var_dic_list()) "
    }
   },
   "types_to_exclude": [
    "module",
    "function",
    "builtin_function_or_method",
    "instance",
    "_Feature"
   ],
   "window_display": false
  }
 },
 "nbformat": 4,
 "nbformat_minor": 2
}
